{
  "cells": [
    {
      "cell_type": "markdown",
      "metadata": {
        "id": "mRHB9cBf5D7V"
      },
      "source": [
        "# CSE110 Lab Assignment 6\n",
        "This assignment is to guide you to solve everything you have learned so far by implementing functions in Python. \n",
        "\n",
        "\n",
        "\n",
        "Write your name, student id and CSE110 section below:"
      ]
    },
    {
      "cell_type": "markdown",
      "metadata": {
        "id": "_uzpm0b85D7Z"
      },
      "source": [
        "**<font color='red'>[MUST MAINTAIN VARIABLE NAMING CONVENTIONS FOR ALL THE TASKS]</font>**\n",
        "\n",
        "## Write the Python code of the following problems:\n",
        "\n",
        "### Task 1\n",
        "Write a function called **even_checker** that takes a number as an argument and prints whether the number is even or odd **inside the function**.\n",
        "\n",
        "===================================\n",
        "\n",
        "**Example1:** \\\n",
        "**Function Call:**\\\n",
        "even_checker(5)\\\n",
        "**Output:**\\\n",
        "Odd!!\n",
        "\n",
        "=============================\n",
        "\n",
        "**Example2:** \\\n",
        "**Function Call:**\\\n",
        "even_checker(2)\\\n",
        "**Output:**\\\n",
        "Even!!\n",
        "\n"
      ]
    },
    {
      "cell_type": "code",
      "execution_count": null,
      "metadata": {
        "colab": {
          "base_uri": "https://localhost:8080/"
        },
        "id": "tMMBecSe5D7a",
        "outputId": "dea981c1-86fc-4d14-883c-70ebefb99897"
      },
      "outputs": [
        {
          "name": "stdout",
          "output_type": "stream",
          "text": [
            "Enter a number: 5\n",
            "The number 5 is: Odd!!\n"
          ]
        }
      ],
      "source": [
        "def even_checker(x):\n",
        "    if x % 2 == 0:\n",
        "        print(\"Even!!\")\n",
        "    else:\n",
        "        print(\"Odd!!\")\n",
        "\n",
        "\n",
        "num = int(input(\"Enter a number: \"))\n",
        "print(\"The number\", str(num)+\" is:\", end=\" \")\n",
        "even_checker(num)"
      ]
    },
    {
      "cell_type": "markdown",
      "metadata": {
        "id": "YFKgn6Yw5D7f"
      },
      "source": [
        "### Task 2\n",
        "Write a python function that takes the limit as an argument of the Fibonacci series and prints till that limit. \n",
        "\n",
        "===================================\n",
        "\n",
        "**Function Call:**\\\n",
        "fibonacci(10)\\\n",
        "**Output:**\\\n",
        "0 1 1 2 3 5 8\\\n",
        "======================\\\n",
        "**Function Call:**\\\n",
        "fibonacci(5)\\\n",
        "**Output:**\\\n",
        "0 1 1 2 3 5 "
      ]
    },
    {
      "cell_type": "code",
      "execution_count": null,
      "metadata": {
        "colab": {
          "base_uri": "https://localhost:8080/"
        },
        "id": "J4ab_IeA5D7g",
        "outputId": "dde6e6c4-0055-468a-d479-1a8cce355ac4"
      },
      "outputs": [
        {
          "name": "stdout",
          "output_type": "stream",
          "text": [
            "Enter a number for the range: 10\n",
            "Fibonacci series till 10: 0 1 1 2 3 5 8 "
          ]
        }
      ],
      "source": [
        "def fibonacci(x):\n",
        "    fib1 = 0\n",
        "    fib2 = 1\n",
        "    fib = 0\n",
        "    for i in range(x):\n",
        "        print(fib1, end=\" \")\n",
        "        fib = fib1+fib2\n",
        "        fib1 = fib2\n",
        "        fib2 = fib\n",
        "        if fib1 > x:\n",
        "            break\n",
        "\n",
        "\n",
        "num = int(input(\"Enter a number for the range: \"))\n",
        "print(\"Fibonacci series till\", str(num)+\":\", end=\" \")\n",
        "fibonacci(num)"
      ]
    },
    {
      "cell_type": "markdown",
      "metadata": {
        "id": "rDY_xNcO5D7k"
      },
      "source": [
        "### Task 3\n",
        "Write a function called **foo_moo** that takes a number as an argument and **returns** the following statements according the below mentioned conditions. Then, finally prints the statement in the function call. \n",
        "\n",
        "* \tIf the number is divisible by 2, it should return \"Foo\".\n",
        "*   If the number is divisible by 3, it should return \"Moo\". \n",
        "*   If the number is divisible by both 2 and 3, it should return \"FooMoo\".\n",
        "*   Otherwise, it returns \"Boo\".\n",
        "\n",
        "===================================\n",
        "\n",
        "**Example1:** \\\n",
        "**Function Call:**\\\n",
        "foo_moo(5)\\\n",
        "**Output:**\\\n",
        "Boo\n",
        "\n",
        "=================\n",
        "\n",
        "\n",
        "**Example2:** \\\n",
        "**Function Call:**\\\n",
        "foo_moo(4)\\\n",
        "**Output:**\\\n",
        "Foo\n",
        "\n",
        "=================\n",
        "\n",
        "\n",
        "**Example3:** \\\n",
        "**Function Call:**\\\n",
        "foo_moo(6)\\\n",
        "**Output:**\\\n",
        "FooMoo\n",
        "\n"
      ]
    },
    {
      "cell_type": "code",
      "execution_count": null,
      "metadata": {
        "colab": {
          "base_uri": "https://localhost:8080/"
        },
        "id": "2roUcNrC5D7l",
        "outputId": "1737d0cd-d277-4c04-915f-cb42f86b0406"
      },
      "outputs": [
        {
          "name": "stdout",
          "output_type": "stream",
          "text": [
            "Enter an integer: 6\n",
            "Output: FooMoo\n"
          ]
        }
      ],
      "source": [
        "def foo_moo(x):\n",
        "    if x % 2 == 0 and x % 3 == 0:\n",
        "        return\"FooMoo\"\n",
        "    elif x % 2 == 0:\n",
        "        return\"Foo\"\n",
        "    elif x % 3 == 0:\n",
        "        return\"Moo\"\n",
        "    else:\n",
        "        return\"Boo\"\n",
        "\n",
        "\n",
        "num = int(input(\"Enter an integer: \"))\n",
        "print(\"Output:\", foo_moo(num))"
      ]
    },
    {
      "cell_type": "markdown",
      "metadata": {
        "id": "nemw1U-i5D7s"
      },
      "source": [
        "### Task 4\n",
        "Write a python function that takes a string as an argument. Your task is to calculate the number of uppercase letters and lowercase letters and print them in the function. \n",
        "\n",
        "===================================\n",
        "\n",
        "**Function Call:**\\\n",
        "function_name('The quick Sand Man')\\\n",
        "**Output:**\\\n",
        "No. of Uppercase characters : 3\\\n",
        "No. of Lowercase Characters: 12\\\n",
        "============================\\\n",
        "**Function Call:**\\\n",
        "function_name('HaRRy PotteR')\\\n",
        "**Output:**\\\n",
        "No. of Uppercase characters : 5\\\n",
        "No. of Lowercase Characters: 6\n"
      ]
    },
    {
      "cell_type": "code",
      "execution_count": 11,
      "metadata": {
        "colab": {
          "base_uri": "https://localhost:8080/"
        },
        "id": "4ZBb4Mcr5D7t",
        "outputId": "6ba564c1-9888-44ba-893d-e3d275b632bd"
      },
      "outputs": [
        {
          "name": "stdout",
          "output_type": "stream",
          "text": [
            "Enter a string: The quick Sand Man\n",
            "No. of Uppercase characters: 3\n",
            "No. of lowercase characters: 12\n"
          ]
        }
      ],
      "source": [
        "def func_t4(x):\n",
        "    up = 0\n",
        "    lw = 0\n",
        "    for i in range(len(x)):\n",
        "        if s[i].isupper():\n",
        "            up += 1\n",
        "        elif s[i].islower():\n",
        "            lw += 1\n",
        "    print(\"No. of Uppercase characters:\", up)\n",
        "    print(\"No. of lowercase characters:\", lw)\n",
        "\n",
        "\n",
        "s = input(\"Enter a string: \")\n",
        "func_t4(s)"
      ]
    },
    {
      "cell_type": "markdown",
      "metadata": {
        "id": "e9bojIHe5D7w"
      },
      "source": [
        "### Task 5\n",
        "Write a function called **calculate_tax** that takes 3 arguments: your age, salary, and current job designation.\n",
        "\n",
        "\n",
        "Your first task is to take these arguments as user input and pass these values to the function.\n",
        "\n",
        "Your second task is to implement the function and calculate the tax as the following conditions:\n",
        "*  **NO TAX IF YOU ARE LESS THAN 18 YEARS OLD.**\n",
        "*  **NO TAX IF YOU ARE THE PRESIDENT OF THE COMPANY** \n",
        "*  No tax if you get paid less than 10,000\n",
        "*  5% tax if you get paid between 10K and 20K\n",
        "*  10% tax if you get paid more than 20K\n",
        "\n",
        "\n",
        "Finally return this tax value. Then print the returned value in the function call.\n",
        "\n",
        "===================================\n",
        "\n",
        "**Hints:**\\\n",
        "Here the job designation is a string, so it can be written in both uppercase and lower cases. So, you need to check the value ignoring the case.\n",
        "\n",
        "===================================\n",
        "\n",
        "**Example1:** \\\n",
        "**Input:**\\\n",
        "16\\\n",
        "20000\\\n",
        "Student\\\n",
        "**Function Call:**\\\n",
        "calculate_tax(16, 20000, 'Student')\\\n",
        "**Output:**\\\n",
        "0\n",
        "\n",
        "===================================\n",
        "\n",
        "**Example2:** \\\n",
        "**Input:**\\\n",
        "20\\\n",
        "18000\\\n",
        "assistant manager\\\n",
        "**Function Call:**\\\n",
        "calculate_tax(20, 18000, 'assistant manager')\\\n",
        "**Output:**\\\n",
        "900.0\n",
        "\n",
        "\n",
        "===================================\n",
        "\n",
        "**Example3:** \\\n",
        "**Input:**\\\n",
        "20\\\n",
        "22000\\\n",
        "assistant manager\\\n",
        "**Function Call:**\\\n",
        "calculate_tax(20, 22000, 'Assistant manager')\\\n",
        "**Output:**\\\n",
        "2200.0\n",
        "\n",
        "===================================\n",
        "\n",
        "\n",
        "**Example4:** \\\n",
        "**Input:**\\\n",
        "20\\\n",
        "122000\\\n",
        "president\\\n",
        "**Function Call:**\\\n",
        "calculate_tax(20, 122000, 'president')\\\n",
        "**Output:**\\\n",
        "0\n",
        " \n",
        "\n",
        "\n"
      ]
    },
    {
      "cell_type": "code",
      "execution_count": null,
      "metadata": {
        "colab": {
          "base_uri": "https://localhost:8080/"
        },
        "id": "M4oo-FKQ5D7x",
        "outputId": "4dd2df61-0b45-471c-90a3-2597cd54ed88"
      },
      "outputs": [
        {
          "name": "stdout",
          "output_type": "stream",
          "text": [
            "Enter the age of the person: 25\n",
            "Enter the salary of the person: 80000\n",
            "Enter the job designation of the person: General Manager\n",
            "Tax to be paid: 8000.0\n"
          ]
        }
      ],
      "source": [
        "def calculate_tax(a, s, j_d):\n",
        "    tax = 0\n",
        "    j_d_p = \"president\"\n",
        "    j_d_g = \"\"\n",
        "\n",
        "    for i in j_d:\n",
        "        j_d_g += i.lower()\n",
        "    # print(j_d_g)\n",
        "\n",
        "    if a < 18:\n",
        "        tax = 0\n",
        "    else:\n",
        "        if s < 10000 and j_d_g != j_d_p:\n",
        "            tax = 0\n",
        "        elif 10000 <= s <= 20000 and j_d_g != j_d_p:\n",
        "            tax = s*0.05\n",
        "        elif s > 20000 and j_d_g != j_d_p:\n",
        "            tax = s*0.1\n",
        "    return tax\n",
        "\n",
        "\n",
        "age = int(input(\"Enter the age of the person: \"))\n",
        "salary = int(input(\"Enter the salary of the person: \"))\n",
        "job_d = input(\"Enter the job designation of the person: \")\n",
        "\n",
        "print(\"Tax to be paid:\", calculate_tax(age, salary, job_d))"
      ]
    },
    {
      "cell_type": "markdown",
      "metadata": {
        "id": "VXLQHyLp5D71"
      },
      "source": [
        "### Task 6\n",
        "Write a function which will take 1 argument, number of days.\n",
        "\n",
        "Your first task is to take the number of days as user input and pass the value to the function.\n",
        " \n",
        "Your second task is to implement the function and calculate the total number of years, number of months, and the remaining number of days as output. No need to return any value, print inside the function. \n",
        "\n",
        "**Note:** Assume, each year to be 365 days and month to be 30 days.\n",
        "\n",
        "=====================================================\n",
        "\n",
        "**Hint(1):**  Divide and mod the main input to get the desired output.\n",
        "\n",
        "**Hint(2):**\n",
        "This task’s calculation is similar to Assignment-1’s seconds to hours, minutes conversion.\n",
        "\n",
        "=====================================================\n",
        "\n",
        "**Example01**\n",
        "\n",
        "**Input:**\\\n",
        "4330\\\n",
        "**Function Call:**\\\n",
        "function_name(4330)\\\n",
        "**Output:**\\\n",
        "11 years, 10 months and 15 days\n",
        "\n",
        "================================\n",
        "\n",
        "**Example02**\n",
        "\n",
        "**Input:**\\\n",
        "2250\\\n",
        "**Function Call:**\\\n",
        "function_name(2250)\\\n",
        "**Output:**\\\n",
        "6 years, 2 months and 0 days\n",
        "\n",
        "\n"
      ]
    },
    {
      "cell_type": "code",
      "execution_count": 10,
      "metadata": {
        "colab": {
          "base_uri": "https://localhost:8080/"
        },
        "id": "gkE9d9gs5D72",
        "outputId": "4345cfe2-e3ed-492f-ed88-e465b3980676"
      },
      "outputs": [
        {
          "name": "stdout",
          "output_type": "stream",
          "text": [
            "Enter the number of days: 2250\n",
            "6 years, 2 months and 0 days\n"
          ]
        }
      ],
      "source": [
        "def func_t6(x):\n",
        "    y = x // 365\n",
        "    m = (x - y * 365) // 30\n",
        "    d = (x - y * 365 - m * 30)\n",
        "    print(y, \"years,\", m, \"months and\", d, \"days\")\n",
        "\n",
        "\n",
        "days = int(input(\"Enter the number of days: \"))\n",
        "func_t6(days)"
      ]
    },
    {
      "cell_type": "markdown",
      "metadata": {
        "id": "8-vvES0i5D8B"
      },
      "source": [
        "### Task 7\n",
        "Write a function called **show_palindrome** that takes a number as an argument and then returns a palindrome string. Finally, prints the returned value in the function call.\n",
        "\n",
        "=====================================================\n",
        "\n",
        "**Example1:** \\\n",
        "**Function Call:**\\\n",
        "show_palindrome(5)\\\n",
        "**Output:**\\\n",
        "123454321\n",
        "\n",
        "===================\n",
        "\n",
        "**Example2:** \\\n",
        "**Function Call:**\\\n",
        "show_palindrome(3)\\\n",
        "**Output:**\\\n",
        "12321\n"
      ]
    },
    {
      "cell_type": "code",
      "execution_count": null,
      "metadata": {
        "colab": {
          "base_uri": "https://localhost:8080/"
        },
        "id": "QN-Iu8sz5D8C",
        "outputId": "196b90fb-40ce-4db1-f6b5-5e3bd9ce0dda"
      },
      "outputs": [
        {
          "name": "stdout",
          "output_type": "stream",
          "text": [
            "Enter a number: 5\n",
            "The palindrome string of 5 is: 123454321\n"
          ]
        }
      ],
      "source": [
        "def show_palindrome(x):\n",
        "    s = \"\"\n",
        "    for i in range(1, x+1):\n",
        "        s += str(i)\n",
        "    for i in range(x-1, 0, -1):\n",
        "        s += str(i)\n",
        "    return s\n",
        "\n",
        "\n",
        "num = int(input(\"Enter a number: \"))\n",
        "print(\"The palindrome string of\", num, \"is:\", show_palindrome(num))"
      ]
    },
    {
      "cell_type": "markdown",
      "metadata": {
        "id": "V_PVNpx45D8F"
      },
      "source": [
        "### Task 8\n",
        "Write a function called **show_palindromic_triangle** that takes a number as an argument and prints a Palindromic Triangle in the function.\n",
        "\n",
        "**<font color='blue'>[Must reuse the show_palindrome() function of the previous task]</font>**\n",
        "\n",
        "\n",
        "\n",
        "=====================================================\n",
        "\n",
        "**Hints(1):** \\\n",
        "Need to use both print() and print( , end = \" \") functions\n",
        "\n",
        "\n",
        "=====================================================\n",
        "\n",
        "**Example1:** \\\n",
        "**Function Call:**\\\n",
        "show_palindromic_triangle(5)\\\n",
        "**Output:**\n",
        "\n",
        "&emsp; &emsp; &emsp; &emsp; 1\\\n",
        "&emsp; &emsp; &emsp; 1 &nbsp; 2 &nbsp; 1 \\\n",
        "&emsp; &emsp; 1 &nbsp; 2 &nbsp; 3 &nbsp; 2 &nbsp; 1 \\\n",
        "&emsp; 1 &nbsp; 2 &nbsp; 3 &nbsp; 4 &nbsp; 3 &nbsp; 2 &nbsp; 1 \\\n",
        "1 &nbsp; 2 &nbsp; 3 &nbsp; 4 &nbsp; 5 &nbsp; 4 &nbsp; 3 &nbsp; 2 &nbsp; 1\n",
        "\n",
        "=============================================================\n",
        "\n",
        "\n",
        "**Example2:** \\\n",
        "**Function Call:**\\\n",
        "show_palindromic_triangle(3)\\\n",
        "**Output:**\n",
        "\n",
        "&emsp; &emsp; 1 \\\n",
        "&emsp; 1 &nbsp; 2 &nbsp; 1 \\\n",
        "1 &nbsp; 2 &nbsp; 3 &nbsp; 2 &nbsp; 1\n",
        "\n",
        "\n"
      ]
    },
    {
      "cell_type": "code",
      "execution_count": null,
      "metadata": {
        "colab": {
          "base_uri": "https://localhost:8080/"
        },
        "id": "fUu0BrHz5D8G",
        "outputId": "2ee2cc1b-e727-43e6-9fdf-7319405c09d0"
      },
      "outputs": [
        {
          "name": "stdout",
          "output_type": "stream",
          "text": [
            "Enter a number: 9\n",
            "Palindromic triangle of 9 is:\n",
            "                1 \n",
            "              1 2 1 \n",
            "            1 2 3 2 1 \n",
            "          1 2 3 4 3 2 1 \n",
            "        1 2 3 4 5 4 3 2 1 \n",
            "      1 2 3 4 5 6 5 4 3 2 1 \n",
            "    1 2 3 4 5 6 7 6 5 4 3 2 1 \n",
            "  1 2 3 4 5 6 7 8 7 6 5 4 3 2 1 \n",
            "1 2 3 4 5 6 7 8 9 8 7 6 5 4 3 2 1 \n"
          ]
        }
      ],
      "source": [
        "def show_palindromic_triangle(x):\n",
        "    print(\"Palindromic triangle of\", x, \"is:\")\n",
        "    for i in range(1, x + 1):\n",
        "        for j in range(x - i):\n",
        "            print(\" \", end=\" \")\n",
        "        for j in range(1, i + 1):\n",
        "            print(j, end=\" \")\n",
        "        for j in range(j - 1, 0, -1):\n",
        "            print(j, end=\" \")\n",
        "        print(\"\")\n",
        "\n",
        "\n",
        "num = int(input(\"Enter a number: \"))\n",
        "show_palindromic_triangle(num)"
      ]
    },
    {
      "cell_type": "markdown",
      "metadata": {
        "id": "iLTMEWXg5D8M"
      },
      "source": [
        "### Task 09\n",
        "Write a function called **area_circumference_generator** that takes a radius of a circle as a  function parameter and calculates its circumference and area. Then returns these two results as a **tuple** and prints the results using tuple unpacking in the function call accorrding to the given format. \n",
        "\n",
        "<font color='blue'>**[Must use tuple packing & unpacking]** </font>\n",
        "\n",
        "=====================================================\n",
        "\n",
        "**Example1:** \\\n",
        "**Function Call:**\\\n",
        "area_circumference_generator(1)\\\n",
        "**Output:**\\\n",
        "(3.141592653589793, 6.283185307179586)\\\n",
        "Area of the circle is 3.141592653589793 and circumference is 6.283185307179586\n",
        "\n",
        "====================================\n",
        "\n",
        "**Example2:** \\\n",
        "**Function Call:**\\\n",
        "area_circumference_generator(1.5)\\\n",
        "**Output:**\\\n",
        "(7.0685834705770345, 9.42477796076938)\\\n",
        "Area of the circle is 7.0685834705770345 and circumference is 9.42477796076938\n",
        "\n",
        "====================================\n",
        "\n",
        "\n",
        "**Example3:** \\\n",
        "**Function Call:**\\\n",
        "area_circumference_generator(2.5)\\\n",
        "**Output:**\\\n",
        "(19.634954084936208, 15.707963267948966)\\\n",
        "Area of the circle is 19.634954084936208 and circumference is 15.707963267948966\n"
      ]
    },
    {
      "cell_type": "code",
      "execution_count": null,
      "metadata": {
        "colab": {
          "base_uri": "https://localhost:8080/"
        },
        "id": "-KGD8b0F5D8T",
        "outputId": "86463bc2-f7c9-4d10-da68-b2e81f351e78"
      },
      "outputs": [
        {
          "name": "stdout",
          "output_type": "stream",
          "text": [
            "Enter the length of the radius: 2.5\n",
            "(19.634954084936208, 15.707963267948966) \n",
            "Area of the circle is 19.634954084936208 and circumference is 15.707963267948966\n"
          ]
        }
      ],
      "source": [
        "import math\n",
        "\n",
        "\n",
        "def area_circumference_generator(x):\n",
        "    pi = math.pi\n",
        "    a = pi * x**2\n",
        "    c = 2 * pi * x\n",
        "    tpl = (a, c)\n",
        "    return tpl\n",
        "\n",
        "\n",
        "num = float(input(\"Enter the length of the radius: \"))\n",
        "\n",
        "(area, circumference) = area_circumference_generator(num)\n",
        "print(area_circumference_generator(num), \"\\nArea of the circle is\", area, \"and circumference is\", circumference)\n"
      ]
    },
    {
      "cell_type": "markdown",
      "metadata": {
        "id": "J7xaBB5i5D8c"
      },
      "source": [
        "### Task 11\n",
        "Write a function called **rem_duplicate** that takes a tuple in the parameter and **return a tuple** removing all the duplicate values. Then print the returned tuple in the function call.\n",
        "\n",
        "<font color='red'>**[Cannot use remove() or removed() for this task]** </font>\n",
        "\n",
        "=====================================================\n",
        "\n",
        "**Hints:** \\\n",
        "Unlike lists, tuples are immutable so, the tuple taken as an argument cannot be modified. But list can be modified and lastly for returning the result use type conversion. You need to use membership operators (in, not in) for preventing adding any duplicates values.\n",
        "\n",
        "=====================================================\n",
        "\n",
        "\n",
        "**Example1:** \\\n",
        "**Function Call:**\\\n",
        "rem_duplicate((1,1,1,2,3,4,5,6,6,6,6,4,0,0,0))\\\n",
        "**Output:**\\\n",
        "(1, 2, 3, 4, 5, 6, 0)\n",
        "\n",
        "====================================\n",
        "\n",
        "**Example2:** \\\n",
        "**Function Call:**\\\n",
        "rem_duplicate((\"Hi\", 1, 2, 3, 3, \"Hi\",'a', 'a', [1,2]))\\\n",
        "**Output:**\\\n",
        "('Hi', 1, 2, 3, 'a', [1, 2])\n",
        "\n",
        "\n",
        "\n"
      ]
    },
    {
      "cell_type": "code",
      "execution_count": null,
      "metadata": {
        "colab": {
          "base_uri": "https://localhost:8080/"
        },
        "id": "mniLLbJY5D8d",
        "outputId": "d6f7120d-d1c9-44cc-d74e-77c302644832"
      },
      "outputs": [
        {
          "name": "stdout",
          "output_type": "stream",
          "text": [
            "After removing duplicates:  ('Hi', 1, 2, 3, 'a', [1, 2])\n"
          ]
        }
      ],
      "source": [
        "def rem_duplicate(x):\n",
        "    li = []\n",
        "    for i in range(len(x)):\n",
        "        if x[i] not in li:\n",
        "            li.append(x[i])\n",
        "    li = tuple(li)\n",
        "    return li\n",
        "\n",
        "\n",
        "tpl = (\"Hi\", 1, 2, 3, 3, \"Hi\", \"a\", \"a\", [1, 2])\n",
        "print(\"After removing duplicates: \", rem_duplicate(tpl))"
      ]
    },
    {
      "cell_type": "markdown",
      "metadata": {
        "id": "yJxb2yrb5D8h"
      },
      "source": [
        "### Task 12\n",
        "Write a python function that takes a list as an argument. Your task is to create a new list where **each element can be present at max 2 times**. Inside the function, print the number of elements removed from the given list. Finally, return the new list and print the result.\n",
        "\n",
        "=====================================================\n",
        "\n",
        "**Hint:** You may use list_name.count(element) to count the total number of times an element is in a list. list_name is your new list for this problem.\n",
        "\n",
        "=====================================================\n",
        "\n",
        "**Function Call:**\\\n",
        "function_name([1, 2, 3, 3, 3, 3, 4, 5, 8, 8])\\\n",
        "**Output:**\\\n",
        "Removed: 2\\\n",
        "[1, 2, 3, 3, 4, 5, 8, 8]\\\n",
        "================================\\\n",
        "**Function Call:**\\\n",
        "function_name([10, 10, 15, 15, 20])\\\n",
        "**Output:**\\\n",
        "Removed: 0\\\n",
        "[10, 10, 15, 15, 20]"
      ]
    },
    {
      "cell_type": "code",
      "execution_count": null,
      "metadata": {
        "colab": {
          "base_uri": "https://localhost:8080/"
        },
        "id": "URBhYdgt5D8h",
        "outputId": "5e1e6c01-9972-4082-83cb-dce85808309b"
      },
      "outputs": [
        {
          "name": "stdout",
          "output_type": "stream",
          "text": [
            "Enter the elements of the list separated with commas: 1, 2, 3, 3, 3, 3, 4, 5, 8, 8\n",
            "Removed: 2\n",
            "Resulting list: [1, 2, 3, 3, 4, 5, 8, 8]\n"
          ]
        }
      ],
      "source": [
        "def func_t12(x):\n",
        "    x = s.split(\", \")\n",
        "    li_x = x.copy()\n",
        "    for i in x:\n",
        "        if x.count(i) > 2:\n",
        "            x.remove(i)\n",
        "    for i in range(len(x)):\n",
        "        if x[i].isdigit():\n",
        "            x[i] = int(x[i])\n",
        "    print(\"Removed:\", (len(li_x)-len(x)))\n",
        "    return x\n",
        "\n",
        "\n",
        "s = input(\"Enter the elements of the list separated with commas: \")\n",
        "\n",
        "print(\"Resulting list:\", func_t12(s))"
      ]
    },
    {
      "cell_type": "markdown",
      "metadata": {
        "id": "vqET24dk5D8u"
      },
      "source": [
        "### Task 13\n",
        "Write a python function that will perform the basic calculation (addition, subtraction, multiplication and division) based on 3 arguments. They are:\n",
        "- Operator ('+', '-', '/', '*')\n",
        "- First Operand (any number)\n",
        "- Second Operand (any number)\n",
        "\n",
        "Your first task is to take these arguments as user input and pass the values to the function parameters.\n",
        "\n",
        "Your second task is to write a function and performs the calculation based on the given operator. Then, finally return the result in the function call and print the result.\n",
        "\n",
        "=====================================================\n",
        "\n",
        "**Input:**\\\n",
        "\"+\"\\\n",
        "10\\\n",
        "20\\\n",
        "**Function Call:**\\\n",
        "function_name(\"+\", 10, 20)\\\n",
        "**Output:**\\\n",
        "30.0\n",
        "\n",
        "================================\n",
        "\n",
        "**Input:**\\\n",
        "\"*\"\\\n",
        "5.5\\\n",
        "2.5\\\n",
        "**Function Call:**\\\n",
        "function_name(\"*\", 5.5, 2.5)\\\n",
        "**Output:**\\\n",
        "13.75\n"
      ]
    },
    {
      "cell_type": "code",
      "execution_count": null,
      "metadata": {
        "colab": {
          "base_uri": "https://localhost:8080/"
        },
        "id": "sh7YQRv_5D8v",
        "outputId": "f8dc5687-c127-4d59-ecf3-59cf924974f7"
      },
      "outputs": [
        {
          "name": "stdout",
          "output_type": "stream",
          "text": [
            "Enter the sign: *\n",
            "Enter the first number: 2.5\n",
            "Enter the second number: 5.5\n",
            "Output for this '*' sign: 13.75\n"
          ]
        }
      ],
      "source": [
        "def func_t13(o, x, y):\n",
        "    if o == \"+\":\n",
        "        return x+y\n",
        "    elif o == \"/\":\n",
        "        return x/y\n",
        "    elif o == \"-\":\n",
        "        return x-y\n",
        "    elif o == \"*\":\n",
        "        return x*y\n",
        "\n",
        "\n",
        "op = input(\"Enter the sign: \")\n",
        "n1 = float(input(\"Enter the first number: \"))\n",
        "n2 = float(input(\"Enter the second number: \"))\n",
        "\n",
        "print(\"Output for this \\'\" +op+ \"\\' sign:\",  func_t13(op, n1, n2))"
      ]
    },
    {
      "cell_type": "markdown",
      "metadata": {
        "id": "KGitjtfO5D83"
      },
      "source": [
        "### Task 14\n",
        "Write a function which will take 2 arguments. They are:\n",
        "- Sentence \n",
        "- position \n",
        "\n",
        "Your first task is to take these arguments as user input and pass these values to the function parameters.\n",
        "\n",
        "Your second task is to implement the function and remove the characters at the index number which is divisible by the position (Avoid the index number 0 as it will always be divisible by the position, so no need to remove the index 0 character). \n",
        "Finally, add the removed characters at the end of the new string.\n",
        "\n",
        "Return the value and then finally, print the new string at the function call.\n",
        "\n",
        "<font color='red'>**[Cannot use remove() or removed() for this task]** </font>\n",
        "\n",
        "=====================================================\n",
        "\n",
        "**Input:**\\\n",
        "\"I love programming.\"\\\n",
        "3\\\n",
        "**Function call:**\\\n",
        "function_name(\"I love programming.\", 3)\\\n",
        "**Output:**\\\n",
        "I lveprgrmmngo oai.\n",
        "\n",
        "==============================================\n",
        "\n",
        "**Input:**\\\n",
        "\"Python is easy to learn. I love python.\"\\\n",
        "6\\\n",
        "**Function call:**\\\n",
        "function_name(\"Python is easy to learn. I love python.\", 6)\\\n",
        "**Output:**\\\n",
        "Pythonis eay to earn.I lov pythn. sl eo\n"
      ]
    },
    {
      "cell_type": "code",
      "execution_count": null,
      "metadata": {
        "colab": {
          "base_uri": "https://localhost:8080/"
        },
        "id": "1Op6YcHY5D84",
        "outputId": "bd90fa4c-5335-441b-b984-a9c9e84f315d"
      },
      "outputs": [
        {
          "name": "stdout",
          "output_type": "stream",
          "text": [
            "Enter a string: I love Programming.\n",
            "Enter a position: 3\n",
            "Resulting string: I lvePrgrmmngo oai.\n"
          ]
        }
      ],
      "source": [
        "def func_t14(s, p):\n",
        "    ns = s[0]                   # new string 1 to store values matched value\n",
        "    ns1 = \"\"                    # new string 2 to store values unmatched value\n",
        "    for i in range(1, len(s)):\n",
        "        if i % p != 0:\n",
        "            ns += s[i]\n",
        "        else:\n",
        "            ns1 += s[i]\n",
        "    return ns + ns1\n",
        "\n",
        "\n",
        "sen = input(\"Enter a string: \")\n",
        "pos = int(input(\"Enter a position: \"))\n",
        "\n",
        "print(\"Resulting string:\", func_t14(sen, pos))"
      ]
    },
    {
      "cell_type": "markdown",
      "metadata": {
        "id": "5Gq0ZAzQ5D8-"
      },
      "source": [
        "### Task 15\n",
        "You have been hired as an app developer for the company. The company plans to make an app for a grocery store where the user can order groceries and see the total amount to be paid in the cart section. \n",
        "\n",
        "To build this feature, you have to write a function that takes 2 arguments. They are:\n",
        "- order_items (must be a list)\n",
        "- location (default value should be set to \"Dhanmondi\")\n",
        "\n",
        "Your first task is to take a list of items from the user. Pass the list into the function parameter along with the optional location (Use default argument technique). (Also, no need to take location as input, pass this any value you want.) \n",
        "\n",
        "Your second task is to implement the function. In the function, create a dictionary for the items shown in the table. Calculate the total price of the items passed as a list to the function. Additionally, add a delivery fee of 30 taka if the location is Dhanmondi. Otherwise, add a delivery fee of 70 taka. Finally, return the value and print it.\n",
        "\n",
        "| Item | Price(Tk) |\n",
        "| --- | --- |\n",
        "| Rice | 105 |\n",
        "| Potato | 20 |\n",
        "| Chicken | 250 |\n",
        "| Beef | 510 |\n",
        "| Oil | 85 |\n",
        "\n",
        "=====================================================\n",
        "\n",
        "**Hint:** The keys are the items and values are the corresponding price. Iterate the items in the list and check if the items in the list are available in the dictionary keys or not. If it is available, add the price.\n",
        "\n",
        "=====================================================\n",
        "\n",
        "**Example1:**\\\n",
        "function_name([\"Rice\", \"Beef\", \"Rice\"], \"Mohakhali\")\n",
        "\n",
        "total = 105 + 510 + 105 = 720 (Take the price of each item and add them.)\\\n",
        "total = 720 + 70 = 790 (Finally, add the delivery fee based on the location.)\n",
        "\n",
        "**Input:**\\\n",
        "[\"Rice\", \"Beef\", \"Rice\"]\\\n",
        "**Function Call:**\\\n",
        "function_name([\"Rice\", \"Beef\", \"Rice\"], \"Mohakhali\")\\\n",
        "**Output:**\\\n",
        "790\n",
        "\n",
        "==============================================\n",
        "\n",
        "**Example2:**\n",
        "\n",
        "function_name([\"Rice\", \"Beef\", \"Rice\"])\n",
        "\n",
        "total = 105 + 510 + 105 = 720 (Take the price of each item and add them.)\\\n",
        "total = 720 + 30 = 750 (Since no location is passed in the parameter, it will use the default location-\"Dhanmondi\". For dhanmondi, delivery fee of 30 taka)\n",
        "\n",
        "**Input:**\\\n",
        "[\"Rice\", \"Beef\", \"Rice\"]\\\n",
        "**Function Call:**\\\n",
        "function_name([\"Rice\", \"Beef\", \"Rice\"])\\\n",
        "**Output:**\\\n",
        "750"
      ]
    },
    {
      "cell_type": "code",
      "execution_count": null,
      "metadata": {
        "colab": {
          "base_uri": "https://localhost:8080/"
        },
        "id": "KqbU53QPblRv",
        "outputId": "1a292245-7763-4cf6-d687-6a06887991a8"
      },
      "outputs": [
        {
          "name": "stdout",
          "output_type": "stream",
          "text": [
            "Enter the items' names(separate with commas): Rice, Beef, Rice\n",
            "Enter the delivery location: Uttara\n",
            "Total bill for Uttara : 790\n",
            "Total bill for Dhanmondi: 750\n"
          ]
        }
      ],
      "source": [
        "def func_t15(it, l=\"Dhanmondi\"):\n",
        "    p_l = {\"Rice\": 105, \"Potato\": 20, \"Chicken\": 250, \"Beef\": 510, \"Oil\": 85}   # price_list\n",
        "    ans = 0\n",
        "    for i in range(len(it)):\n",
        "        for j in p_l:\n",
        "            if it[i] == j:\n",
        "                ans += p_l[j]\n",
        "    if l == \"Dhanmondi\":\n",
        "        ans += 30\n",
        "    else:\n",
        "        ans += 70\n",
        "    return ans\n",
        "\n",
        "\n",
        "s = input(\"Enter the items\\' names(separate with commas): \")\n",
        "items = s.split(\", \")\n",
        "loc = input(\"Enter the delivery location: \")\n",
        "\n",
        "print(\"Total bill for\", loc, \":\", func_t15(items, loc))     # case : taking location input from the user.\n",
        "print(\"Total bill for Dhanmondi:\", func_t15(items))         # case : not taking the location input from user."
      ]
    },
    {
      "cell_type": "markdown",
      "metadata": {
        "id": "sWkvpVVmbT5n"
      },
      "source": [
        "## Optional Tasks (16 -21) [Ungraded]"
      ]
    },
    {
      "cell_type": "markdown",
      "metadata": {
        "id": "LIi7SUJLZ4gA"
      },
      "source": [
        "### Task 16\n",
        "Write a function called **splitting_money** that takes an “amount” of money as a argument.\n",
        "\n",
        "Your first task is to take the “amount” of money as user input and pass the value to the function paramater.\n",
        " \n",
        "Your second task is to implement the function and calculate how that money can be split into 500, 100, 50, 20, 10, 5, 2, and 1 taka notes.\n",
        "\n",
        "Then print the returned value in the function call.\n",
        "\n",
        "=====================================================\n",
        "\n",
        "\n",
        "**Hints:** \\\n",
        "This task’s calculation is similar to Assignment-1’s seconds to hours, minutes conversion. To return the result containing multiple strings, you need to store it in a variable and return it at the end of the function.\n",
        "\n",
        "=====================================================\n",
        "\n",
        "\n",
        "**Example1:** \\\n",
        "If the money is 1234, then the function should return \n",
        "\n",
        "\"500 Taka: 2 note(s) \\\n",
        "100 Taka: 2 note(s) \\\n",
        "20 Taka: 1 note(s) \\\n",
        "10 Taka: 1 note(s) \\\n",
        "2 Taka: 2 note(s)\"\n",
        "\n",
        "=====================================================\n",
        "\n",
        "**Example2:** \\\n",
        "If the money is 151, then the function should return\n",
        "\n",
        "\"100 Taka: 1 note(s)\\\n",
        "50 Taka: 1 note(s)\\\n",
        "1 Taka: 1 note(s)\"\n",
        "\n",
        "\n"
      ]
    },
    {
      "cell_type": "code",
      "execution_count": null,
      "metadata": {
        "id": "XI1uLQ5rb2oH"
      },
      "outputs": [],
      "source": [
        "#todo"
      ]
    },
    {
      "cell_type": "markdown",
      "metadata": {
        "id": "VpnhnPPcab5J"
      },
      "source": [
        "### Task 17\n",
        "Write a function called **remove_odd** that takes a list of numbers that have both even and odd numbers mixed. \\\n",
        "Your function should remove all the odd numbers and **return a compact list** which only contains the even numbers. \n",
        "\n",
        "<font color='red'>**[Cannot use remove() or removed() for this task]** </font>\n",
        "\n",
        "=====================================================\n",
        "\n",
        "**Example1:** \\\n",
        "**Function Call:**\\\n",
        "remove_odd ([21, 33, 44, 66, 11, 1, 88, 45, 10, 9])\\\n",
        "**Output:**\\\n",
        "[44, 66, 88, 10]\n",
        "\n",
        "====================================\n",
        "\n",
        "**Example2:** \\\n",
        "**Function Call:**\\\n",
        "remove_odd ([11,2,3,4,5,2,0,5,3])\\\n",
        "**Output:**\\\n",
        "[2, 4, 2, 0]\n",
        "\n"
      ]
    },
    {
      "cell_type": "code",
      "execution_count": null,
      "metadata": {
        "colab": {
          "base_uri": "https://localhost:8080/"
        },
        "id": "y4dR2jV6bAYw",
        "outputId": "cf2208a0-ec0e-43f6-a43e-2d48780352c3"
      },
      "outputs": [
        {
          "name": "stdout",
          "output_type": "stream",
          "text": [
            "Enter numbers of the list (separated with commas): 11,2,3,4,5,2,0,5,3\n",
            "Odds removed: [2, 4, 2, 0]\n"
          ]
        }
      ],
      "source": [
        "def remove_odd(x):\n",
        "    y = []\n",
        "    for i in range(len(x)):\n",
        "        if x[i] % 2 == 0:\n",
        "            y.append(x[i])\n",
        "        else:\n",
        "            continue\n",
        "    return y\n",
        "\n",
        "\n",
        "s = input(\"Enter numbers of the list (separated with commas): \")\n",
        "li = s.split(\",\")\n",
        "for i in range(len(li)):\n",
        "    if li[i].isdigit():\n",
        "        li[i] = int(li[i])\n",
        "\n",
        "print(\"Odds removed:\", remove_odd(li))"
      ]
    },
    {
      "cell_type": "markdown",
      "metadata": {
        "id": "8qAKekKWbBnP"
      },
      "source": [
        "### Task 18\n",
        "Write a function which will take 4 arguments. They are:\n",
        "- starting value(inclusive)\n",
        "- ending value(exclusive)\n",
        "- first divisor\n",
        "- second divisor\n",
        "\n",
        "Your first task is to take these arguments as user input and pass these values to the function.\n",
        "\n",
        "Your second task is to implement the function and find all the numbers that are divisible by the <u> **first divisor or second divisor but not both**</u> from the starting value(inclusive) and ending value(exclusive). Add all the numbers that are divisible and finally return this value. Print the returned value in the function call.\n",
        "\n",
        "=====================================================\n",
        "\n",
        "**Input:**\\\n",
        "10\\\n",
        "40\\\n",
        "4\\\n",
        "7\\\n",
        "**Function Call:**\\\n",
        "function_name(10, 40, 4, 7)\\\n",
        "**Output:**\\\n",
        "210\\\n",
        "================================\\\n",
        "**Input:**\\\n",
        "5\\\n",
        "100\\\n",
        "3\\\n",
        "4\\\n",
        "**Function Call:**\\\n",
        "function_name(5, 100, 3, 4)\\\n",
        "**Output:**\\\n",
        "2012\n",
        "\n",
        "\n"
      ]
    },
    {
      "cell_type": "code",
      "execution_count": null,
      "metadata": {
        "colab": {
          "base_uri": "https://localhost:8080/"
        },
        "id": "-vQ3gIWm5D8-",
        "outputId": "5320361b-e47b-4f61-fc9b-5b68b2772359"
      },
      "outputs": [
        {
          "name": "stdout",
          "output_type": "stream",
          "text": [
            "Enter the starting value: 5\n",
            "Enter the ending value: 100\n",
            "Enter the first divisior: 3\n",
            "Enter the second divisior: 4\n",
            "Output: 2012\n"
          ]
        }
      ],
      "source": [
        "def func_t18(x, y, a, b):\n",
        "    ans = 0\n",
        "    for i in range(x, y):\n",
        "        if i % a == 0 and i % b != 0 or i % a != 0 and i % b == 0:\n",
        "            ans += i\n",
        "    return ans\n",
        "    \n",
        "\n",
        "sv = int(input(\"Enter the starting value: \"))\n",
        "ev = int(input(\"Enter the ending value: \"))\n",
        "fd = int(input(\"Enter the first divisior: \"))\n",
        "sd = int(input(\"Enter the second divisior: \"))\n",
        "\n",
        "print(\"Output:\", (func_t18(sv, ev, fd, sd)))"
      ]
    },
    {
      "cell_type": "markdown",
      "metadata": {
        "id": "0poe59Q-aAtP"
      },
      "source": [
        "### Task 19\n",
        "Write a python function which will take a string as an argument. \n",
        "\n",
        "Your first task is to take a string as user input and pass the value to the function.\n",
        "\n",
        "Your second task is to implement a function which will check whether all the alphabets from a to j (convert all the alphabets to lowercase) has appeared at least once in the given string or not. \n",
        "- If all of these alphabets (a to j) appear at least once, then the result will be 5. \n",
        "- If any one of the alphabets (a to j) is not in the given string, then the result will be 6.\n",
        "\n",
        "Return this result and print the statement, \"PSG will win the Champions League this season\" that many times.\n",
        "\n",
        "=====================================================\n",
        "\n",
        "**Example01:**\n",
        "\"A black jackal is hunting a full grown deer\" \n",
        "\n",
        "Here all the alphabets from A to J are present at least once. So, the function will return 5 and will print the statement 5 times.\n",
        "\n",
        "**Input:**\\\n",
        "\"A black jackal is hunting a full grown deer\"\\\n",
        "**Function Call:**\\\n",
        "function_name(\"A black jackal is hunting a full grown deer\")\\\n",
        "**Output:**\\\n",
        "PSG will win the Champions League this season\\\n",
        "PSG will win the Champions League this season\\\n",
        "PSG will win the Champions League this season\\\n",
        "PSG will win the Champions League this season\\\n",
        "PSG will win the Champions League this season\n",
        "\n",
        "==============================================\n",
        "\n",
        "**Example02:**\n",
        "\n",
        "**Input:**\\\n",
        "\"ABBCDEFEFGHI\"\\\n",
        "**Function Call:**\\\n",
        "function_name(\"ABBCDEFEFGHI\")\\\n",
        "**Output:**\\\n",
        "PSG will win the Champions League this season\\\n",
        "PSG will win the Champions League this season\\\n",
        "PSG will win the Champions League this season\\\n",
        "PSG will win the Champions League this season\\\n",
        "PSG will win the Champions League this season\\\n",
        "PSG will win the Champions League this season\n"
      ]
    },
    {
      "cell_type": "code",
      "execution_count": null,
      "metadata": {
        "colab": {
          "base_uri": "https://localhost:8080/"
        },
        "id": "uQRx3Kclb57h",
        "outputId": "b68f55ce-cce3-4309-eff0-074fd6d6755c"
      },
      "outputs": [
        {
          "name": "stdout",
          "output_type": "stream",
          "text": [
            "Enter a sentence: A black jackal is hunting a full grown deer\n",
            "PSG will win the Champions League this season\n",
            "PSG will win the Champions League this season\n",
            "PSG will win the Champions League this season\n",
            "PSG will win the Champions League this season\n",
            "PSG will win the Champions League this season\n"
          ]
        }
      ],
      "source": [
        "def func_t19(x):\n",
        "    nx = \"\"\n",
        "    for i in range(len(x)):\n",
        "        nx += x[i].lower()\n",
        "    li = [\"a\", \"b\", \"c\", \"d\", \"e\", \"f\", \"g\", \"h\", \"i\", \"j\"]\n",
        "    n_li = []\n",
        "    for i in range(len(nx)):\n",
        "        if nx[i] in li:\n",
        "            if nx[i] not in n_li:\n",
        "                n_li.append(nx[i])\n",
        "    n_li.sort()\n",
        "\n",
        "    if n_li == li:\n",
        "        t = 5\n",
        "    else:\n",
        "        t = 6\n",
        "\n",
        "    return t\n",
        "\n",
        "\n",
        "s = input(\"Enter a sentence: \")\n",
        "for i in range(func_t19(s)):\n",
        "    print(\"PSG will win the Champions League this season\")"
      ]
    },
    {
      "cell_type": "markdown",
      "metadata": {
        "id": "NTujbqM7cz8e"
      },
      "source": [
        "### Task 20\n",
        "Write a function called **individul_bonus_calculation** which will take 4 arguments. They are:\n",
        "\n",
        "- The player name\n",
        "- Yearly earning of that player\n",
        "- The total goal scored this season by that player\n",
        "- Bonus percent per goal.\n",
        "\n",
        "\n",
        "Your task is to implement the above-mentioned function that will calculate the total bonus on the yearly earnings of a player for the total goals he had scored.\n",
        "\n",
        "Additionally, \n",
        " * If the goal scored is above 30, add a (additional) bonus of 10000 taka.\n",
        " * If it is between 20 and 30 inclusive, add an extra 5000 taka.\n",
        "\n",
        "<font color='blue'>[ For this task, no need to take any input from the user. Call the functions and print the values inside the function. ] </font>\n",
        "\n",
        "\n",
        "\n",
        "=====================================================\n",
        "\n",
        "**Example1:**\\\n",
        "individul_bonus_calculation(\"Neymar\", 1200000, 35, 5)\n",
        "\n",
        "bonus = 35 * (5 / 100 * 1200000) + 10000 = 2110000\n",
        "\n",
        "**Function call:**\\\n",
        "individul_bonus_calculation(\"Neymar\", 1200000, 35, 5)\\\n",
        "**Output:**\\\n",
        "Neymar earned a bonus of  2110000 Taka for 35 goals.\n",
        "\n",
        "=====================================================\n",
        "\n",
        "**Example2:**\\\n",
        "individul_bonus_calculation('Jamal', 700000, 19, 8)\n",
        "\n",
        "bonus = 19 * (8 / 100 * 700000) + 0 = 1064000\n",
        "\n",
        "**Function call:**\\\n",
        "individul_bonus_calculation('Jamal', 700000, 19, 8)\\\n",
        "**Output:**\\\n",
        "Jamal earned a bonus of 1064000 Taka for 19 goals.\n",
        "\n",
        "=====================================================\n",
        "\n",
        "**Example3:**\\\n",
        "individul_bonus_calculation('Luis', 80000, 25, 10)\n",
        "\n",
        "bonus = 25 * (10 / 100 * 80000) + 5000 = 205000\n",
        "\n",
        "**Function call:**\\\n",
        "individul_bonus_calculation('Luis', 80000, 25, 10)\\\n",
        "**Output:**\\\n",
        "Luis earned a bonus of 205000 Taka for 25 goals.\n",
        "\n",
        "====================================================="
      ]
    },
    {
      "cell_type": "code",
      "execution_count": null,
      "metadata": {
        "colab": {
          "base_uri": "https://localhost:8080/"
        },
        "id": "EGX9O6XU2LPD",
        "outputId": "18ba1812-aa58-413d-bba9-7eb1c5bfbc8b"
      },
      "outputs": [
        {
          "name": "stdout",
          "output_type": "stream",
          "text": [
            "Enter the name of the player: Jamal\n",
            "Enter the yearly earning: 70000\n",
            "Enter the number of goals scored: 19\n",
            "Enter the percent of bonus per goal: 8\n",
            "Jamal earned a bonus of 106400.0 Taka for 19 goals.\n"
          ]
        }
      ],
      "source": [
        "def individual_bonus_calculation(n, e, g, b):\n",
        "    ans = g*(b/100*e)\n",
        "    if g > 30:\n",
        "        ans += 10000\n",
        "    elif 20 <= g >= 30:\n",
        "        ans += 5000\n",
        "    print(n, \"earned a bonus of\", ans, \"Taka for\", g, \"goals.\")\n",
        "\n",
        "\n",
        "name = input(\"Enter the name of the player: \")\n",
        "earning = int(input(\"Enter the yearly earning: \"))\n",
        "goals = int(input(\"Enter the number of goals scored: \"))\n",
        "bonus = int(input(\"Enter the percent of bonus per goal: \"))\n",
        "\n",
        "individual_bonus_calculation(name, earning, goals, bonus)"
      ]
    },
    {
      "cell_type": "markdown",
      "metadata": {
        "id": "pRU4EhuSh_r-"
      },
      "source": [
        "### Task 21\n",
        "You have been hired by the Abahani football club to write a function that will calculate the total bonus on the yearly earnings of each player for the total goals they have scored.\n",
        "\n",
        "Since the number of players will vary, you decide to use the \"*args\" technique that you learned in your CSE110 class. \n",
        "\n",
        "For each player: pass the name, yearly earning, the total goal scored this season, bonus percent per goal. \n",
        "\n",
        "Additionally, \n",
        " * If the goal scored is above 30, add an extra bonus of 10000 taka. \n",
        " * If it is between 20 and 30 inclusive, add an extra 5000 taka.\n",
        "\n",
        "<font color='blue'>[ For this task, no need to take any input from the user. Call the functions and print the values inside the function. ] </font>\n",
        "\n",
        "**<font color='blue'>[Must reuse the individul_bonus_calculation() function of the previous task]</font>**\n",
        "\n",
        "\n",
        "=====================================================\n",
        "\n",
        "**Example1:**\\\n",
        "cal_bonus(\"Neymar\", 1200000, 35, 5)\n",
        "\n",
        "bonus = 35 * (5 / 100 * 1200000) + 10000 = 2110000\n",
        "\n",
        "**Function call:**\\\n",
        "cal_bonus(\"Neymar\", 1200000, 35, 5)\\\n",
        "**Output:**\\\n",
        "Neymar earned a bonus of  2110000 Taka for 35 goals.\n",
        "\n",
        "=====================================================\n",
        "\n",
        "**Example2:**\\\n",
        "**Function call:**\\\n",
        "function_name(\"Neymar\", 1200000, 30, 10, \"Jamal\", 700000, 19, 5)\\\n",
        "**Output:**\\\n",
        "Neymar earned a bonus of 3605000 Taka for 30 goals.\\\n",
        "Jamal earned a bonus of 665000 Taka for 19 goals.\n",
        "\n",
        "\n",
        "=====================================================\n",
        "\n",
        "**Example3:**\\\n",
        "**Function call:**\\\n",
        "function_name(\"Neymar\", 1200000, 35, 5, 'Jamal', 700000, 19, 8, 'Luis', 80000, 25, 10))\\\n",
        "**Output:**\\\n",
        "Neymar earned a bonus of 2110000 Taka for 35 goals.\\\n",
        "Jamal earned a bonus of 1064000 Taka for 19 goals.\\\n",
        "Luis earned a bonus of 205000 Taka for 25 goals.\n",
        "\n"
      ]
    },
    {
      "cell_type": "code",
      "execution_count": null,
      "metadata": {
        "id": "IIz3msUa5D9B"
      },
      "outputs": [],
      "source": []
    }
  ],
  "metadata": {
    "colab": {
      "collapsed_sections": [],
      "name": "21301455_Md_Monowarul_Islam_08_CSE110Assignment6.ipynb",
      "provenance": []
    },
    "kernelspec": {
      "display_name": "Python 3",
      "language": "python",
      "name": "python3"
    },
    "language_info": {
      "codemirror_mode": {
        "name": "ipython",
        "version": 3
      },
      "file_extension": ".py",
      "mimetype": "text/x-python",
      "name": "python",
      "nbconvert_exporter": "python",
      "pygments_lexer": "ipython3",
      "version": "3.8.8"
    }
  },
  "nbformat": 4,
  "nbformat_minor": 0
}
