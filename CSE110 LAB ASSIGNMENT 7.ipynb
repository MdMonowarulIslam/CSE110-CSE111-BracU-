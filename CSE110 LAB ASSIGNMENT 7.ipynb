{
  "cells": [
    {
      "cell_type": "markdown",
      "metadata": {
        "id": "oMYzsTcnHEll"
      },
      "source": [
        "# CSE110 Lab Assignment 7 on Sorting and Searching\n",
        "\n",
        "Write your name, Student ID and CSE110 section below:\n"
      ]
    },
    {
      "cell_type": "markdown",
      "metadata": {
        "id": "jT-t2zlnHEll"
      },
      "source": [
        "## Write the Python code for the following problems:\n",
        "**<font color='red'>[MUST MAINTAIN VARIABLE NAMING CONVENTIONS FOR ALL THE TASKS]</font>**\n",
        "\n",
        "### Task 1\n",
        "\n",
        "Suppose you have a list named my_list as given below. <br/>\n",
        "my_list = [10,1,20,3,6,2,5,11,15,2,12,14,17,18,29] <br/>\n",
        "Now use bubble sort to sort my_list into ascending order.\n",
        "\n",
        "**Output**<br/>\n",
        "[1, 2, 2, 3, 5, 6, 10, 11, 12, 14, 15, 17, 18, 20, 29]"
      ]
    },
    {
      "cell_type": "code",
      "execution_count": 12,
      "metadata": {
        "colab": {
          "base_uri": "https://localhost:8080/"
        },
        "id": "7qXVakLgHElm",
        "outputId": "23a5c08f-5082-4606-c4c3-559c9f4f0631"
      },
      "outputs": [
        {
          "name": "stdout",
          "output_type": "stream",
          "text": [
            "Enter elements (separating them with spaces): 10 1 20 3 6 2 5 11 15 2 12 14 17 18 29\n",
            "Entered list: [10, 1, 20, 3, 6, 2, 5, 11, 15, 2, 12, 14, 17, 18, 29]\n",
            "Bubble sorted: [1, 2, 2, 3, 5, 6, 10, 11, 12, 14, 15, 17, 18, 20, 29]\n"
          ]
        }
      ],
      "source": [
        "# 10 1 20 3 6 2 5 11 15 2 12 14 17 18 29 [input]\n",
        "\n",
        "def bubble_sort(li):\n",
        "    n = len(li)\n",
        "    for i in range(n-1):\n",
        "        for j in range(n-i-1):\n",
        "            if li[j] > li[j+1]:\n",
        "                li[j], li[j+1] = li[j+1], li[j]\n",
        "    print(\"Bubble sorted:\", li)\n",
        "\n",
        "s = input(\"Enter elements (separating them with spaces): \")\n",
        "lis = s.split(\" \")\n",
        "for i in range(len(lis)):\n",
        "    lis[i] = int(lis[i])\n",
        "print(\"Entered list:\", lis)\n",
        "bubble_sort(lis)"
      ]
    },
    {
      "cell_type": "markdown",
      "metadata": {
        "id": "w1QgeWd2HElp"
      },
      "source": [
        "### Task 2\n",
        "\n",
        "Suppose you have a list named my_list as given below. <br/>\n",
        "my_list = [10,1,20,3,6,2,5,11,15,2,12,14,17,18,29] <br/>\n",
        "Now use selection sort to sort my_list into ascending order.\n",
        "\n",
        "**Output**<br/>\n",
        "[1, 2, 2, 3, 5, 6, 10, 11, 12, 14, 15, 17, 18, 20, 29]\n",
        "\n"
      ]
    },
    {
      "cell_type": "code",
      "execution_count": 11,
      "metadata": {
        "colab": {
          "base_uri": "https://localhost:8080/"
        },
        "id": "am0B_8ICHElq",
        "outputId": "a90cbd66-1129-49d5-d3bd-0a3e3b38f6a7"
      },
      "outputs": [
        {
          "name": "stdout",
          "output_type": "stream",
          "text": [
            "Enter elements (separating them with spaces): 10 1 20 3 6 2 5 11 15 2 12 14 17 18 29\n",
            "Entered list: [10, 1, 20, 3, 6, 2, 5, 11, 15, 2, 12, 14, 17, 18, 29]\n",
            "Selection sorted: [1, 2, 2, 3, 5, 6, 10, 11, 12, 14, 15, 17, 18, 20, 29]\n"
          ]
        }
      ],
      "source": [
        "# 10 1 20 3 6 2 5 11 15 2 12 14 17 18 29 [input]\n",
        "\n",
        "def selection_sort(li):\n",
        "    n = len(li)\n",
        "    for i in range(n):\n",
        "        minidx = i\n",
        "        for j in range(i+1, n):\n",
        "            if li[j] < li[minidx]:\n",
        "                minidx = j\n",
        "        li[i], li[minidx] = li[minidx], li[i]\n",
        "    print(\"Selection sorted:\", li)\n",
        "\n",
        "s = input(\"Enter elements (separating them with spaces): \")\n",
        "lis = s.split(\" \")\n",
        "for i in range(len(lis)):\n",
        "    lis[i] = int(lis[i])\n",
        "print(\"Entered list:\", lis)\n",
        "selection_sort(lis)"
      ]
    },
    {
      "cell_type": "markdown",
      "metadata": {
        "id": "j4ffr2CAHElt"
      },
      "source": [
        "### Task  3\n",
        "\n",
        "Suppose you have a list named my_list as given below <br/>\n",
        "my_list=[10,1,20,3,6,2,5,11,15,2,12,14,17,18,29] <br/>\n",
        "Now use any of the two sorting techniques you have used above to sort the list in descending order.\n",
        "\n",
        "**Output**<br/>\n",
        "[29, 20, 18, 17, 15, 14, 12, 11, 10, 6, 5, 3, 2, 2, 1]\n"
      ]
    },
    {
      "cell_type": "code",
      "execution_count": 10,
      "metadata": {
        "colab": {
          "base_uri": "https://localhost:8080/"
        },
        "id": "n2X3YR-_HElt",
        "outputId": "ca107ff5-2d4e-4b7b-9a3f-7b0cc6320153"
      },
      "outputs": [
        {
          "name": "stdout",
          "output_type": "stream",
          "text": [
            "Enter elements (separating them with spaces): 10 30 20 70 11 15 22 16 58 100 12 56 70 80\n",
            "Entered list: [10, 30, 20, 70, 11, 15, 22, 16, 58, 100, 12, 56, 70, 80]\n",
            "Selection reverse sorted: [100, 80, 70, 70, 58, 56, 30, 22, 20, 16, 15, 12, 11, 10]\n"
          ]
        }
      ],
      "source": [
        "# 10 1 20 3 6 2 5 11 15 2 12 14 17 18 29 [input]\n",
        "\n",
        "def selection_reverse_sort(li):\n",
        "    n = len(li)\n",
        "    for i in range(n):\n",
        "        maxidx = i\n",
        "        for j in range(i+1, n):\n",
        "            if li[j] > li[maxidx]:\n",
        "                maxidx = j\n",
        "        li[i], li[maxidx] = li[maxidx], li[i]\n",
        "    print(\"Selection reverse sorted:\", li)\n",
        "\n",
        "s = input(\"Enter elements (separating them with spaces): \")\n",
        "lis = s.split(\" \")\n",
        "for i in range(len(lis)):\n",
        "    lis[i] = int(lis[i])\n",
        "print(\"Entered list:\", lis)\n",
        "selection_reverse_sort(lis)\n"
      ]
    },
    {
      "cell_type": "markdown",
      "metadata": {
        "id": "9iYiiTWWHElw"
      },
      "source": [
        "### Task 4\n",
        "\n",
        "Suppose you have a sitting arrangement of the students who will give the final exam in a list. The list contains the last two digits of their student ID as given below.<br/>\n",
        "\n",
        "sitting_list = [10,30,20,70,11,15,22,16,58,100,12,56,70,80] <br/>\n",
        "\n",
        "Now you want to organize the sitting arrangement of the students in your own way. You decide to sort all the students in the even indices of the list in ascending order and all the students in the odd indices of the list in descending order.  <br/>\n",
        "\n",
        "So, write a python program that organizes the list for you in this way.<br/>\n",
        "\n",
        "\n",
        "**Sample Output**<br/>\n",
        "[10, 100, 11, 80, 12, 70, 20, 56, 22, 30, 58, 16, 70, 15]"
      ]
    },
    {
      "cell_type": "code",
      "execution_count": 8,
      "metadata": {
        "colab": {
          "base_uri": "https://localhost:8080/"
        },
        "id": "nPdUAKDJHElw",
        "outputId": "d8e650cd-9f26-48ed-d24c-cd07c55381d6"
      },
      "outputs": [
        {
          "name": "stdout",
          "output_type": "stream",
          "text": [
            "Enter elements (separating them with spaces): 10 30 20 70 11 15 22 16 58 100 12 56 70 80\n",
            "Sitting list: [10, 30, 20, 70, 11, 15, 22, 16, 58, 100, 12, 56, 70, 80]\n",
            "Sitting sorted: [10, 100, 11, 80, 12, 70, 20, 56, 22, 30, 58, 16, 70, 15]\n"
          ]
        }
      ],
      "source": [
        "# 10 30 20 70 11 15 22 16 58 100 12 56 70 80 [input]\n",
        "\n",
        "def sitting_sort(li):\n",
        "    n = len(li)\n",
        "    for i in range(0, n, 2):\n",
        "        for j in range(0, n-2, 2):\n",
        "            if li[j] > li[j+2]:\n",
        "                li[j], li[j+2] = li[j+2], li[j]\n",
        "    for i in range(1, n, 2):\n",
        "        for j in range(1, n-2, 2):\n",
        "            if li[j] < li[j+2]:\n",
        "                li[j], li[j+2] = li[j+2], li[j]\n",
        "    print(\"Sitting sorted:\", li)\n",
        "\n",
        "s = input(\"Enter elements (separating them with spaces): \")\n",
        "lis = s.split(\" \")\n",
        "for i in range(len(lis)):\n",
        "    lis[i] = int(lis[i])\n",
        "print(\"Sitting list:\", lis)\n",
        "sitting_sort(lis)"
      ]
    },
    {
      "cell_type": "markdown",
      "metadata": {
        "id": "oVR1Tsa0HElz"
      },
      "source": [
        "### Task 5\n",
        "\n",
        "Suppose a list contains marks earned in the courses CSE110, PHY111, and MAT110 of each student consecutively in a nested list form. Your task is to take a course name as input from the user and sort the list based on the marks obtained in that course in order to finally print the names of the students in descending order of marks obtained i.e. from the student who earned the highest marks to the student who earned the lowest. <br/>\n",
        "\n",
        "For example, the list may look like <br/>\n",
        "lst = [ [\"Alan\", 95, 87, 91], [\"Turing\", 92, 90, 83], [\"Elon\", 87, 92, 80], [\"Musk\", 85, 94, 90] ] <br/>\n",
        "where for each nested list, 1st index holds the name of the student, 2nd index is total marks earned in the CSE110 course, 3rd index is PHY111 marks and 4th index is MAT110 marks. \n",
        "\n",
        "=====================================================\n",
        "\n",
        "**Hint:**<br/>\n",
        "You may create a function for sorting, then call it every time when needed instead of rewriting the code.\n",
        "\n",
        "You may get the data in the individual lists from the given nested list.\n",
        "\n",
        "=====================================================\n",
        "\n",
        "**Sample Input 1**<br/>\n",
        "MAT110\n",
        "\n",
        "**Sample Output 1**<br/>\n",
        "Alan <br/>\n",
        "Musk <br/>\n",
        "Turing <br/>\n",
        "Elon\n",
        "\n",
        "**Explanation:**<br/>\n",
        "Here the user gives us \"MAT110\" as the course name. Now, the students Alan, Turing, Elon and Musk earned 91, 83, 80 and 90 marks respectively in this course. If we sort it, Alan got the highest marks of 91 followed by Musk with 90 marks and Turing with 83 marks. Among these 4 students, Elon obtained the lowest marks in the MAT110 course with 80 marks. All of these has been illustrated in our sample output.\n",
        "\n",
        "=====================================================\n",
        "\n",
        "**Sample Input 2**<br/>\n",
        "PHY111\n",
        "\n",
        "**Sample Output 2**<br/>\n",
        "Musk <br/>\n",
        "Elon <br/>\n",
        "Turing <br/>\n",
        "Alan"
      ]
    },
    {
      "cell_type": "code",
      "execution_count": 13,
      "metadata": {
        "colab": {
          "base_uri": "https://localhost:8080/"
        },
        "id": "539b2P1NHElz",
        "outputId": "3b89996a-718c-469f-e737-14212a2db31e"
      },
      "outputs": [
        {
          "name": "stdout",
          "output_type": "stream",
          "text": [
            "Enter the subject CODE: phy111\n",
            "Names sorted according to marks(descending):\n",
            "Musk\n",
            "Elon\n",
            "Turing\n",
            "Alan\n"
          ]
        }
      ],
      "source": [
        "def func_t5(li, s):\n",
        "    if s == \"CSE110\":\n",
        "        x = 1\n",
        "    elif s == \"PHY111\":\n",
        "        x = 2\n",
        "    elif s == \"MAT110\":\n",
        "        x = 3\n",
        "\n",
        "    n = len(li)\n",
        "    for i in range(n):\n",
        "        mxidx = i\n",
        "        for j in range(i + 1, n):\n",
        "            if li[mxidx][x] > li[j][x]:\n",
        "                mxidx = j\n",
        "            li[mxidx][x], li[j][x] = li[j][x], li[mxidx][x]\n",
        "            li[mxidx][0], li[j][0] = li[j][0], li[mxidx][0]\n",
        "    return li\n",
        "\n",
        "\n",
        "lst = [[\"Alan\", 95, 87, 91], [\"Turing\", 92, 90, 83], [\"Elon\", 87, 92, 80], [\"Musk\", 85, 94, 90]]\n",
        "sub = input(\"Enter the subject CODE: \").upper()\n",
        "\n",
        "print(\"Names sorted according to marks(descending):\")\n",
        "lst = func_t5(lst, sub)\n",
        "for i in range(len(lst)):\n",
        "    print(lst[i][0])"
      ]
    },
    {
      "cell_type": "markdown",
      "metadata": {
        "id": "B0Rqbyi4HEl2"
      },
      "source": [
        "### Task 6\n",
        "\n",
        "Suppose you have a list named my_list as given below. Your task is to sort the list in ascending order and print the count of numbers that have changed their positions in the process of sorting. <br/>\n",
        "\n",
        "my_list = [4, 2, 3, 1, 6, 5] <br/>\n",
        "\n",
        "Sorted list would be [1, 2, 3, 4, 5, 6] where 4 numbers (4, 1, 6 and 5) have changed their positions. Therefore our sample output here would be 4. Please check if your code is working correctly by changing the above list and using the knowledge given here to verify whether your code gives correct output for all different lists.\n",
        "\n",
        "\n",
        "**Sample Output for the above list**<br/>\n",
        "4"
      ]
    },
    {
      "cell_type": "code",
      "execution_count": 16,
      "metadata": {
        "colab": {
          "base_uri": "https://localhost:8080/"
        },
        "id": "AMc8jAa7HEl2",
        "outputId": "82a58392-4a83-44e1-e130-d315a1a1cf0d"
      },
      "outputs": [
        {
          "name": "stdout",
          "output_type": "stream",
          "text": [
            "My_List: [4, 2, 3, 1, 6, 5]\n",
            "Number of elements that changed position:  4\n"
          ]
        }
      ],
      "source": [
        "def func_t6(li):\n",
        "    prev_li = li.copy()\n",
        "    n = len(li)\n",
        "    for i in range(n-1):\n",
        "        for j in range(n-i-1):\n",
        "            if li[j] > li[j+1]:\n",
        "                li[j], li[j+1] = li[j+1], li[j]\n",
        "\n",
        "    ans = 0\n",
        "    for i in range(n):\n",
        "        if prev_li[i] != li[i]:\n",
        "            ans += 1\n",
        "    print(\"Number of elements that changed position: \", ans)\n",
        "\n",
        "\n",
        "my_list = [4, 2, 3, 1, 6, 5]\n",
        "print(\"My_List:\", my_list)\n",
        "func_t6(my_list)"
      ]
    },
    {
      "cell_type": "markdown",
      "metadata": {
        "id": "iIH5n0sJHEl5"
      },
      "source": [
        "### Task 7\n",
        "\n",
        "Write a python program that takes two lists from the user, merges the two lists, sorts the resulting list, and then finds the median of the elements in the two lists.\n",
        "\n",
        "=====================================================\n",
        "\n",
        "\n",
        "**Sample Input 1**<br/>\n",
        "list_one = [1, 2, 1, 4] <br/>\n",
        "list_two = [5, 4, 1]\n",
        "\n",
        "\n",
        "**Sample Output 1**<br/>\n",
        "Sorted list = [1, 1, 1, 2, 4, 4, 5] <br/>\n",
        "Median = 2\n",
        "\n",
        "=====================================================\n",
        "\n",
        "\n",
        "**Sample Input 2**<br/>\n",
        "list_one = [1, 7, 9, 10] <br/>\n",
        "list_two = [2, 7, 6, 5]\n",
        "\n",
        "\n",
        "**Sample Output 2**<br/>\n",
        "Sorted list = [1, 2, 5, 6, 7, 7, 9, 10] <br/>\n",
        "Median = 6.5\n",
        "\n"
      ]
    },
    {
      "cell_type": "code",
      "execution_count": 21,
      "metadata": {
        "colab": {
          "base_uri": "https://localhost:8080/"
        },
        "id": "KsFxC7XbHEl6",
        "outputId": "9c4cc583-e29e-47ea-c23c-b9537facafe5"
      },
      "outputs": [
        {
          "name": "stdout",
          "output_type": "stream",
          "text": [
            "Enter the elements (seperate with spaces): 1 2 3 4 5\n",
            "Enter the elements (seperate with spaces): 6 7 8 9 10\n",
            "Sorted list = [1, 2, 3, 4, 5, 6, 7, 8, 9, 10]\n",
            "Median = 5.5\n"
          ]
        }
      ],
      "source": [
        "def func_t7(li1, li2):\n",
        "    li = li1 + li2\n",
        "    n = len(li)\n",
        "    for i in range(n):\n",
        "        li[i] = int(li[i])\n",
        "\n",
        "    for i in range(n - 1):\n",
        "        for j in range(n - i - 1):\n",
        "            if li[j] > li[j + 1]:\n",
        "                li[j], li[j + 1] = li[j + 1], li[j]\n",
        "    print(\"Sorted list =\", li)\n",
        "\n",
        "    mi = n // 2\n",
        "    if n % 2 != 0:\n",
        "        x = li[mi]\n",
        "    else:\n",
        "        x = (li[mi] + li[mi - 1]) / 2\n",
        "    print(\"Median =\", x)\n",
        "\n",
        "s1 = input(\"Enter the elements (seperate with spaces): \")\n",
        "lis1 = s1.split(\" \")\n",
        "s2 = input(\"Enter the elements (seperate with spaces): \")\n",
        "lis2 = s2.split(\" \")\n",
        "\n",
        "func_t7(lis1, lis2)\n",
        "\n",
        "# func_t7([1, 2, 1, 4], [5, 4, 1])\n",
        "# func_t7([1, 7, 9, 10], [2, 7, 6, 5])"
      ]
    },
    {
      "cell_type": "markdown",
      "metadata": {
        "id": "-XKiwBR1HEl8"
      },
      "source": [
        "### Task 8\n",
        "\n",
        "\n",
        "Write a python program that takes a list from user containing both positive and negative numbers. The program then finds two pairs of values whose summation is closest to zero.\n",
        "\n",
        "=====================================================\n",
        "\n",
        "**Sample Input 1**<br/>\n",
        "list_one = [-10, 15, 2, 4, -4, 7, -8] \n",
        "\n",
        "\n",
        "**Sample Output 1**<br/>\n",
        "Two pairs which have the smallest sum = 4 and -4\n",
        "\n",
        "=====================================================\n",
        "\n",
        "\n",
        "**Sample Input 2**<br/>\n",
        "list_one = [1, -8, 4, -7, -20, 26, 70, -85]\n",
        "\n",
        "\n",
        "**Sample Output 2**<br/>\n",
        "Two pairs which have the smallest sum = 4 and -7"
      ]
    },
    {
      "cell_type": "code",
      "execution_count": 20,
      "metadata": {
        "colab": {
          "base_uri": "https://localhost:8080/"
        },
        "id": "5ORSGa5GHEl9",
        "outputId": "3d32e0f4-2fb5-4e89-a42c-9a66aadc5aa7"
      },
      "outputs": [
        {
          "name": "stdout",
          "output_type": "stream",
          "text": [
            "Enter the elements of the list seperated with spaces: 1 -8 4 -7 -20 26 70 -85\n",
            "Entered List = [1, -8, 4, -7, -20, 26, 70, -85]\n",
            "Two pairs which have the smallest sum = 4 and -7\n"
          ]
        }
      ],
      "source": [
        "# input 1 = -10 15 2 4 -4 7 -8\n",
        "# input 2 = 1 -8 4 -7 -20 26 70 -85\n",
        "\n",
        "s = input(\"Enter the elements of the list seperated with spaces: \")\n",
        "li = s.split(\" \")\n",
        "n = len(li)\n",
        "for i in range(n):\n",
        "    li[i] = int(li[i])\n",
        "print(\"Entered List =\", li)\n",
        "\n",
        "mn, a1, a2 = 10e9, 0, 0\n",
        "\n",
        "for i in range(n):\n",
        "    for j in range(i+1, n):\n",
        "        x = abs(li[i] + li[j])\n",
        "        if x < mn:\n",
        "            mn = x\n",
        "            a1, a2 = li[i], li[j]\n",
        "print(\"Two pairs which have the smallest sum =\", a1, \"and\", a2)"
      ]
    }
  ],
  "metadata": {
    "colab": {
      "collapsed_sections": [],
      "name": "21301455_Md_Monowarul_Islam_08_CSE110Assignment7.ipynb",
      "provenance": []
    },
    "kernelspec": {
      "display_name": "Python 3",
      "language": "python",
      "name": "python3"
    },
    "language_info": {
      "codemirror_mode": {
        "name": "ipython",
        "version": 3
      },
      "file_extension": ".py",
      "mimetype": "text/x-python",
      "name": "python",
      "nbconvert_exporter": "python",
      "pygments_lexer": "ipython3",
      "version": "3.9.9"
    }
  },
  "nbformat": 4,
  "nbformat_minor": 0
}
