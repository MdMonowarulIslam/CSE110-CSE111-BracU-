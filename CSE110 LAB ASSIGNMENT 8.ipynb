{
  "cells": [
    {
      "cell_type": "markdown",
      "metadata": {
        "id": "ZXvFDb3VLf5p"
      },
      "source": [
        "# CSE110 Lab Assignment 8 on File I/O & Exception\n",
        "\n",
        "Please write your name, student ID and CSE110 section below:\n",
        "\n",
        "\n"
      ]
    },
    {
      "cell_type": "markdown",
      "metadata": {
        "id": "4fjLeMMMEEKB"
      },
      "source": [
        "**<font color='red'>[MUST MAINTAIN VARIABLE NAMING CONVENTIONS FOR ALL THE TASKS]</font>**\n",
        "\n",
        "## Part 1: File\n",
        "\n",
        "### Task 1\n",
        "\n",
        "Write a python program that reads the first n lines of a text file.\n",
        "\n",
        "Suppose you have a file with all these strings in a file.\n",
        "\n",
        "=========================================================\n",
        "\n",
        "I love Python Programming.\\\n",
        "It is very easy to understand the code.\\\n",
        "It can code very hard problems easily in python code.\\\n",
        "Python programming is the best programming language.\n",
        "\n",
        "=========================================================\n",
        "\n",
        "\n",
        "**Input :**\\\n",
        "2\\\n",
        "**Output :**\\\n",
        "I love Python Programming.\\\n",
        "It is very easy to understand the code.\n",
        "\n",
        "=========================================================\n",
        "\n",
        "**Hint(1):**\\\n",
        "Use counter to control line number.\n",
        "\n",
        "**Hint(2):**\\\n",
        "Use function readlines() to store in a list and then use loop\n",
        "\n",
        "OR you can use readline() in a loop.\n",
        "\n",
        "**Hint(3):**\\\n",
        "You might need to use strip() function"
      ]
    },
    {
      "cell_type": "code",
      "execution_count": 2,
      "metadata": {
        "colab": {
          "base_uri": "https://localhost:8080/",
          "height": 235
        },
        "id": "Kb0Fn1AsEHVR",
        "outputId": "035f4d0a-cfcf-41e1-d88c-d9c702ce2403"
      },
      "outputs": [
        {
          "name": "stdout",
          "output_type": "stream",
          "text": [
            "I love Python Programming.\n",
            "It is very easy to understand the code.\n"
          ]
        }
      ],
      "source": [
        "# directory for my PC: C:\\\\Users\\\\XXXXX\\\\Desktop\\\\Assignment8\n",
        "\n",
        "f1 = open(\"T1_F1.txt\", \"r\")\n",
        "\n",
        "n = int(input(\"Enter the number of lines to be read: \"))\n",
        "\n",
        "for i in range(n):\n",
        "    print(f1.readline().strip())\n",
        "\n",
        "f1.close()"
      ]
    },
    {
      "cell_type": "markdown",
      "metadata": {
        "id": "6C9IjoWsEJlJ"
      },
      "source": [
        "### Task 2\n",
        "\n",
        "Write a python program to find the longest word in a file. Then print the word.\\\n",
        "**Input: [in a file]**\\\n",
        "I love Python Programming\\\n",
        "It is very easy to understand the code\\\n",
        "It can code very hard problems easily in python code\\\n",
        "Python programming is the best programming language\n",
        "\n",
        "\n",
        "\n",
        "**Output:**\\\n",
        "Programming\n",
        "\n",
        "=========================================================\n",
        "\n",
        "**Hint(1):**\\\n",
        "You can use split function to separate the words into a list.\n",
        "\n",
        "**Hint(2):**\\\n",
        "Use function readlines()"
      ]
    },
    {
      "cell_type": "code",
      "execution_count": 1,
      "metadata": {
        "id": "WucZ7kEOEKrA"
      },
      "outputs": [
        {
          "name": "stdout",
          "output_type": "stream",
          "text": [
            "Longest word: Programming\n"
          ]
        }
      ],
      "source": [
        "# directory for my PC: C:\\\\Users\\\\XXXXX\\\\Desktop\\\\Assignment8\\\\\n",
        "\n",
        "f1 = open(\"T2_F1.txt\", \"r\")\n",
        "\n",
        "li = f1.readlines()\n",
        "n_li = []\n",
        "\n",
        "for i in range(len(li)):\n",
        "    tmp = li[i].split()\n",
        "    for j in tmp:\n",
        "        n_li.append(j)\n",
        "\n",
        "long_w = \"\"\n",
        "for i in range(len(n_li)):\n",
        "    if len(long_w) < len(n_li[i]):\n",
        "        long_w = n_li[i]\n",
        "print(\"Longest word:\", long_w)\n",
        "\n",
        "f1.close()"
      ]
    },
    {
      "cell_type": "markdown",
      "metadata": {
        "id": "Y0dBzRxdEK1R"
      },
      "source": [
        "### Task 3\n",
        "Write a python program that allows you to erase multiple spaces in a text file. Then re-write the sentence without extra spaces in a another text file.\n",
        "\n",
        "=========================================================\n",
        "\n",
        "**Input:**\n",
        "\n",
        "I&nbsp;&nbsp;&nbsp;&nbsp;&nbsp;&nbsp;love  &nbsp;&nbsp;&nbsp;&nbsp;&nbsp;&nbsp;&nbsp;             Python   &nbsp;&nbsp;&nbsp;&nbsp;&nbsp;&nbsp;&nbsp;&nbsp;          Programming\n",
        "\n",
        "**Output:**\\\n",
        "I love Python Programming.\n",
        "\n",
        "=========================================================\n",
        "\n",
        "**Hints:**\\\n",
        "You can use split function to separate the words into a list.\n"
      ]
    },
    {
      "cell_type": "code",
      "execution_count": 2,
      "metadata": {
        "id": "a0yJHr82ENWF"
      },
      "outputs": [
        {
          "name": "stdout",
          "output_type": "stream",
          "text": [
            "I love Python Programming.\n"
          ]
        }
      ],
      "source": [
        "# directory for my PC: C:\\\\Users\\\\XXXXX\\\\Desktop\\\\Assignment8\\\\\n",
        "\n",
        "f1 = open(\"T3_F1.txt\", \"r\")\n",
        "\n",
        "l1 = f1.readlines()\n",
        "n = len(l1[0])\n",
        "ns = \"\"\n",
        "\n",
        "for i in range(n):\n",
        "    if l1[0][i-1] == \" \" and l1[0][i] == \" \":\n",
        "        continue\n",
        "    ns += l1[0][i]\n",
        "\n",
        "f2 = open(\"T3_F2.txt\", \"w\")\n",
        "f2.write(ns + \".\")\n",
        "print(ns + \".\")\n",
        "\n",
        "f1.close()\n",
        "f2.close()"
      ]
    },
    {
      "cell_type": "markdown",
      "metadata": {
        "id": "OOFNxcqqENje"
      },
      "source": [
        "### Task 4\n",
        "Write a Python program to count the number of lines in a text file. Then, finally print the total number of lines.\n",
        "\n",
        "=========================================================\n",
        "\n",
        "**Input:**\\\n",
        "Hello\\\n",
        "What are you doing\\\n",
        "I am fine\n",
        "\n",
        "**Output:**\\\n",
        "3\n"
      ]
    },
    {
      "cell_type": "code",
      "execution_count": 10,
      "metadata": {
        "id": "PRPocuTJEP0v"
      },
      "outputs": [
        {
          "name": "stdout",
          "output_type": "stream",
          "text": [
            "3\n"
          ]
        }
      ],
      "source": [
        "# directory for my PC: C:\\\\Users\\\\XXXXX\\\\Desktop\\\\Assignment8\\\\\n",
        "\n",
        "f1 = open(\"T4_F1.txt\", \"r\")\n",
        "\n",
        "l1 = f1.readlines()\n",
        "print(len(l1))\n",
        "\n",
        "f1.close()"
      ]
    },
    {
      "cell_type": "markdown",
      "metadata": {
        "id": "LiSNirheEQHf"
      },
      "source": [
        "### Task 5\n",
        "\n",
        "Write a Python program to combine each line from the first file with the corresponding line in the second file and then save it in a 3rd file.\n",
        "\n",
        "Consider, both the files have same number of lines. Assume, each line has a newline(\\n) at the end.\n",
        "\n",
        "=========================================================\n",
        "\n",
        "**Example:**\\\n",
        "**Input from file 1:**\\\n",
        "Hello\\\n",
        "Hi\\\n",
        "Nice\n",
        "\n",
        "**Input from file 2:**\\\n",
        "Bad\\\n",
        "Worse\\\n",
        "Worst\n",
        "\n",
        "**Output in 3rd FIle:**\\\n",
        "Hello Bad\\\n",
        "Hi Worse\\\n",
        "Nice Worst \n",
        "\n",
        "=========================================================\n",
        "\n",
        "**Hint(1):**\\\n",
        " Use the write() function\n",
        "\n",
        "\n",
        "\n"
      ]
    },
    {
      "cell_type": "code",
      "execution_count": 11,
      "metadata": {
        "id": "b-b4xnHLETDY"
      },
      "outputs": [],
      "source": [
        "# directory for my PC: C:\\\\Users\\\\XXXXX\\\\Desktop\\\\Assignment8\\\\\n",
        "\n",
        "f1 = open(\"T5_F1.txt\", \"r\")\n",
        "f2 = open(\"T5_F2.txt\", \"r\")\n",
        "f3 = open(\"T5_F3.txt\", \"w\")\n",
        "\n",
        "l1 = f1.readlines()\n",
        "l2 = f2.readlines()\n",
        "\n",
        "for i in range(len(l1)):\n",
        "    x = l1[i].strip() + \" \" + l2[i].strip() + \"\\n\"\n",
        "    f3.write(x)\n",
        "\n",
        "f1.close()\n",
        "f2.close()\n",
        "f3.close()"
      ]
    },
    {
      "cell_type": "markdown",
      "metadata": {
        "id": "6J7MA_zNCbCg"
      },
      "source": [
        "## Part 2: Exception \n"
      ]
    },
    {
      "cell_type": "markdown",
      "metadata": {
        "id": "tZow-v3MLoLE"
      },
      "source": [
        "### Task 6\n",
        "Given a list named my_list.\n",
        "\n",
        "my_list = [10, 20, 30, 40, 60, 100, 2, 5]\n",
        "\n",
        "Write a python program that takes the position as an input from the user and prints the element of that position from the list. \n",
        "\n",
        "If the user’s input position is not in the range, return an exception stating \"Index out of range\".\n",
        "\n",
        "If the user’s input position is not an Ingeter number, return an exception stating \"For position, please enter an Integer value\".\n",
        "\n",
        "Make sure your program always prints \"Program ended\" at the end, no matter what happens.\n",
        "\n",
        "=============================\n",
        "\n",
        "**Hint:** Use finally block\n",
        "\n",
        "=============================\n",
        "\n",
        "**Example 1:** \\\n",
        "**Input:**\\\n",
        "1\\\n",
        "**Output:**\\\n",
        "20\\\n",
        "Program ended\n",
        "\n",
        "=============================\n",
        "\n",
        "**Example 2:** \\\n",
        "**Input:**\\\n",
        "10\\\n",
        "**Output:**\\\n",
        "Index out of range.\\\n",
        "Program ended\n",
        "\n",
        "\n",
        "\n",
        "=============================\n",
        "\n",
        "**Example 3:** \\\n",
        "**Input:**\\\n",
        "hello\\\n",
        "**Output:**\\\n",
        "For position, please enter an Integer value.\\\n",
        "Program ended\n"
      ]
    },
    {
      "cell_type": "code",
      "execution_count": 3,
      "metadata": {
        "colab": {
          "base_uri": "https://localhost:8080/"
        },
        "id": "c9yKuS5kLdDO",
        "outputId": "2b4b3386-90eb-4f84-b0f7-3278a621178e"
      },
      "outputs": [
        {
          "name": "stdout",
          "output_type": "stream",
          "text": [
            "Enter an from the list: 7\n",
            "5\n",
            "Program ended\n"
          ]
        }
      ],
      "source": [
        "# s = input(\"Enter the elements in the list seperated with spaces :\")\n",
        "# my_list = s.split()\n",
        "# for i in range(len(my_list)):\n",
        "#     my_list[i] = int(my_list[i])\n",
        "\n",
        "my_list = [10, 20, 30, 40, 60, 100, 2, 5]\n",
        "\n",
        "try:\n",
        "    idx = int(input(\"Enter an from the list: \"))\n",
        "except Exception:\n",
        "    print(\"For position, please enter an interger value.\")\n",
        "else:\n",
        "    try:\n",
        "        print(my_list[idx])\n",
        "    except Exception:\n",
        "        print(\"Index out of range.\")\n",
        "finally:\n",
        "    print(\"Program ended\")"
      ]
    },
    {
      "cell_type": "markdown",
      "metadata": {
        "id": "gD4MMyO_Mtw4"
      },
      "source": [
        "### Task 7\n",
        "\n",
        "Suppose you have a dictionary named my_dictionary containing the name of some groceries and their prices.\\\n",
        "my_dictionary={\"Potato\":12, \"Onion\":16, \"Ginger\":15, \"Garlic\":12, \"Tomato\":15}\n",
        "\n",
        "Now write a python program that takes the grocerie names as input from the user and shows the total price of the groceries.\n",
        "\n",
        "Some exceptions to handle:\n",
        "* Handle the exception when the given key is not present in the dictionary.\n",
        "* Handle the exception when the summation variable is not initialized properly. (the variable to store the total price has been initialized at 0 or not)\n",
        "\n",
        "=============================\n",
        "\n",
        "**Example 1:** \\\n",
        "**Input:**\\\n",
        "Potato,Onion,Ginger\\\n",
        "**Output:**\\\n",
        "43\n",
        "\n",
        "=============================\n",
        "\n",
        "**Example 2:** \\\n",
        "**Input:**\\\n",
        "Potato,Onion,Ginger,Beef\\\n",
        "**Output:**\\\n",
        "Some groceries are not available in the dictionary.\n"
      ]
    },
    {
      "cell_type": "code",
      "execution_count": 4,
      "metadata": {
        "colab": {
          "base_uri": "https://localhost:8080/"
        },
        "id": "15umlUXTNe5N",
        "outputId": "9a8ab9f3-da79-4884-ddda-accc5f83d14f"
      },
      "outputs": [
        {
          "name": "stdout",
          "output_type": "stream",
          "text": [
            "Enter the items' names (separate with commas): Potato,Onion,Ginger,Beef,Tomato\n",
            "Some groceries are not available in the dictionary.\n"
          ]
        }
      ],
      "source": [
        "my_dictionary = {\"Potato\":12, \"Onion\":16, \"Ginger\":15, \"Garlic\":12, \"Tomato\":15}\n",
        "\n",
        "try:\n",
        "    s = input(\"Enter the items' names (separate with commas): \")\n",
        "    li = s.split(\",\")\n",
        "    for x in li:\n",
        "        x = x.strip()\n",
        "\n",
        "    random_value, ans = 5, 0\n",
        "\n",
        "    for i in range(len(li)):\n",
        "        if li[i] in my_dictionary.keys():\n",
        "            ans += my_dictionary[li[i]]\n",
        "        else:\n",
        "            ans = 0\n",
        "            break\n",
        "    to_raise_error = random_value/ans\n",
        "except Exception:\n",
        "    print(\"Some groceries are not available in the dictionary.\")\n",
        "else:\n",
        "    print(\"Total price:\", ans)"
      ]
    },
    {
      "cell_type": "markdown",
      "metadata": {
        "id": "l5SgF6kTN7vY"
      },
      "source": [
        "### Task 8\n",
        "Write a python program that takes two lists as input from the user, multiplies the index wise elements of the two lists and adds it to a new variable. While doing the program you should handle the following exceptions:\n",
        "* Return an exception if an element in a list is not a number stating “The list has some non number values”.\n",
        "* Return an exception if there is an index out of bound stating “Index out of bound”.\n",
        "\n",
        "=============================\n",
        "\n",
        "**Example 1:** \\\n",
        "**Input:**\\\n",
        "list_one = [1, a, 2, 4]\\\n",
        "list_two =[5, 6, 7, 8]\\\n",
        "**Output:**\\\n",
        "The list has some non number values\n",
        "\n",
        "=================\n",
        "\n",
        "**Example 2:** \\\n",
        "**Input:**\\\n",
        "list_one=[1, 2, 3, 4, 5]\\\n",
        "list_two=[1, 2, 3, 4]\\\n",
        "**Output:**\\\n",
        "Index out of bound\n",
        "\n",
        "=================\n",
        "\n",
        "**Example 3:** \\\n",
        "**Input:**\\\n",
        "list_one=[1,2,3,4]\\\n",
        "list_two=[5,6,7,8]\\\n",
        "**Output:**\\\n",
        "70\n",
        "\n",
        "\n"
      ]
    },
    {
      "cell_type": "code",
      "execution_count": 5,
      "metadata": {
        "colab": {
          "base_uri": "https://localhost:8080/"
        },
        "id": "oFpEZFRhOlvV",
        "outputId": "3b6f137e-f2f8-41bf-cad8-c5d966fc924e"
      },
      "outputs": [
        {
          "name": "stdout",
          "output_type": "stream",
          "text": [
            "Enter 1st list's elements (separate with spaces): 1 2 3 d\n",
            "Enter 2nd list's elements (separate with spaces): 1 2 3 4\n",
            "The list has some non number values\n"
          ]
        }
      ],
      "source": [
        "def make_list(x):\n",
        "    l = x.split()\n",
        "    for i in range(len(l)):\n",
        "        if l[i].isdigit():\n",
        "            l[i] = int(l[i])\n",
        "    return l\n",
        "\n",
        "s1 = input(\"Enter 1st list's elements (separate with spaces): \")\n",
        "s2 = input(\"Enter 2nd list's elements (separate with spaces): \")\n",
        "li1 = make_list(s1)\n",
        "li2 = make_list(s2)\n",
        "ans = 0\n",
        "\n",
        "try:\n",
        "    for i in range(len(li1)):\n",
        "        ans += li1[i] * li2[i]\n",
        "    print(\"Output:\", ans)\n",
        "except TypeError:\n",
        "    print(\"The list has some non number values\")\n",
        "except Exception:\n",
        "    print(\"Index out of bound\")\n"
      ]
    },
    {
      "cell_type": "markdown",
      "metadata": {
        "id": "iBqIUN-WOnvW"
      },
      "source": [
        "### Task 9\n",
        "Write a python program that will take a string input from the user. Your task is to count the number of vowels and consonants in the string.\n",
        "\n",
        "Using try, if the number of vowels is greater than or equal to the number of consonants, then raise a runtime error. Print 'Number of vowels greater/equal to consonants. Please paraphrase.'.\\\n",
        "Otherwise, print 'The sentence will work.'. \n",
        "\n",
        "**Note:** a,e,i,o,u are called vowels and all the other 21 english alphabets are consonants.\n",
        "\n",
        "=============================\n",
        "\n",
        "**Example 1:** \\\n",
        "**Input:**\\\n",
        "'his age is 10'\\\n",
        "**Output:**\\\n",
        "Number of vowels greater/equal to consonants. Please paraphrase.\n",
        "\n",
        "=================\n",
        "\n",
        "**Example 2:** \\\n",
        "**Input:**\\\n",
        "'he is 10 years old'\\\n",
        "**Output:**\\\n",
        "The sentence will work."
      ]
    },
    {
      "cell_type": "code",
      "execution_count": 7,
      "metadata": {
        "colab": {
          "base_uri": "https://localhost:8080/"
        },
        "id": "-4kg2W2EPwVo",
        "outputId": "27241077-3ef5-4b56-d73e-9c638e0c10ba"
      },
      "outputs": [
        {
          "name": "stdout",
          "output_type": "stream",
          "text": [
            "Enter a sentence: his age is 10\n",
            "Number of vowels greater/equal to consonants. Please paraphrase.\n"
          ]
        }
      ],
      "source": [
        "vowels = [\"a\", \"e\", \"i\", \"o\", \"u\"]\n",
        "vow, con, oth = 0, 0, 0             # vowels, consonants, others\n",
        "interruptor, a = 5, 0\n",
        "\n",
        "try:\n",
        "    s = input(\"Enter a sentence: \").lower()\n",
        "    for i in range(len(s)):\n",
        "        if s[i] in vowels:\n",
        "            vow += 1\n",
        "        else:\n",
        "            con += 1\n",
        "        if s[i].isdigit() or s[i] == \" \":\n",
        "            oth += 1\n",
        "    con -= oth\n",
        "    if vow >= con:\n",
        "        a = interruptor/0\n",
        "    print(\"This sentence will work.\")\n",
        "\n",
        "except Exception:\n",
        "    print(\"Number of vowels greater/equal to consonants. Please paraphrase.\")"
      ]
    },
    {
      "cell_type": "markdown",
      "metadata": {
        "id": "pl4CDeUkPxeM"
      },
      "source": [
        "### Task 10\n",
        "Write a python program that finds the corresponding energy values from a list of frequency values which are taken as input from the user, using the formula, $E=h*f$, where h is a constant of value: 1050\n",
        "\n",
        "Exceptions to handle:\n",
        "* Make sure all elements in the lists are numbers\n",
        "\n",
        "=============================\n",
        "\n",
        "**Example 1:** \\\n",
        "**Input:**\\\n",
        "[2,3]\\\n",
        "**Output:**\\\n",
        "[2100, 3150]\n",
        "\n",
        "=================\n",
        "\n",
        "**Example 2:** \\\n",
        "**Input:**\\\n",
        "[2,boss]\\\n",
        "**Output:**\\\n",
        "Wrong input type"
      ]
    },
    {
      "cell_type": "code",
      "execution_count": 10,
      "metadata": {
        "colab": {
          "base_uri": "https://localhost:8080/"
        },
        "id": "vdYQH9qnQvVo",
        "outputId": "3e6b4f0f-0779-4628-9f0e-b89801a4e7e9"
      },
      "outputs": [
        {
          "name": "stdout",
          "output_type": "stream",
          "text": [
            "Enter the values of f (separate with spaces): 2 Boss\n",
            "Wrong input type\n"
          ]
        }
      ],
      "source": [
        "h = 1050\n",
        "s = input(\"Enter the values of f (separate with spaces): \")\n",
        "li = s.split()\n",
        "n_li = []\n",
        "\n",
        "try:\n",
        "    for i in range(len(li)):\n",
        "        li[i] = int(li[i])\n",
        "    for i in range(len(li)):\n",
        "        n_li.append(li[i]*h)\n",
        "    print(\"Frequency values:\", n_li)\n",
        "except ValueError:\n",
        "    print(\"Wrong input type\")"
      ]
    },
    {
      "cell_type": "markdown",
      "metadata": {
        "id": "GC6Y943uUNHY"
      },
      "source": [
        "### Task 11\n",
        "Imagine Salman Khan is going to the sets of a new movie. He decides to cycle everyday on his way to the sets. For that he uses a distance calculator which finds the distance based on the present day's date, which is asked as an input from the user. You should first take the day and then the month as your inputs.\n",
        "\n",
        "The inputs should be stored in variables named `day` and `month` .The distance calculator uses the following formula to calculate a number which dictates the number of kilometers he must cycle on his way to work.\n",
        "\n",
        "\n",
        "Distance = |if day<10, `5+(day*2)/month`\\\n",
        "&nbsp;&nbsp;&nbsp;&nbsp;&nbsp;&nbsp;&nbsp;&nbsp;&nbsp;&nbsp;&nbsp;&nbsp;&nbsp;&nbsp;&nbsp;&nbsp;&nbsp;&nbsp;&nbsp; |else, `3+(day/month)`\n",
        "\n",
        "\n",
        "Exceptions to handle:\\\n",
        "-Check for 0 division error exception in the formula\\\n",
        "-Type error exception when taking date as input(if the input does not contain number)\\\n",
        "-Value error exception, as day can not be greater than 31 and month can not be greater than 12\n",
        "\n",
        "\n",
        "\n",
        "\n",
        "\n",
        "=============================\n",
        "\n",
        "\n",
        "**Example 1:** \\\n",
        "**Input:**\\\n",
        "3\\\n",
        "5\\\n",
        "**Output:**\\\n",
        "6.2 kilometres\n",
        "\n",
        "=================\n",
        "\n",
        "**Example 2:** \\\n",
        "**Input:**\\\n",
        "2\\\n",
        "0\\\n",
        "**Output:**\\\n",
        "0 is not a valid month\n",
        "\n",
        "=============================\n",
        "\n",
        "**Example 3:** \\\n",
        "**Input:**\\\n",
        "35\\\n",
        "12\\\n",
        "**Output:**\\\n",
        "35 is not a valid day of any month\n",
        "\n",
        "=============================\n",
        "\n",
        "**Example 4:** \\\n",
        "**Input:**\\\n",
        "Hello\\\n",
        "12\\\n",
        "**Output:**\\\n",
        "Please do not enter any string as input\n",
        "\n",
        "=============================\n",
        "\n",
        "\n",
        "**Example 5:** \\\n",
        "**Input:**\\\n",
        "15\\\n",
        "12\\\n",
        "**Output:**\\\n",
        "4.25 kilometres\n",
        "\n",
        "\n",
        "**Example 6:** \\\n",
        "**Input:**\\\n",
        "2\\\n",
        "15\\\n",
        "**Output:**\\\n",
        "15 is not a valid month\n",
        "\n",
        "\n",
        "**Hint(1):**\\\n",
        "Can use the built-in isdigit() function OR the ASCII values to ensure numbers as inputs\n",
        "\n",
        "\n",
        "**Hint(2):**\\\n",
        "Print the outputs in the except block with the help of conditional statements\n",
        "\n",
        "\n"
      ]
    },
    {
      "cell_type": "code",
      "execution_count": 12,
      "metadata": {
        "colab": {
          "base_uri": "https://localhost:8080/"
        },
        "id": "NOpi8SPREmVw",
        "outputId": "6abe1412-c583-4e84-a950-71f18233febb"
      },
      "outputs": [
        {
          "name": "stdout",
          "output_type": "stream",
          "text": [
            "Enter the day: 35\n",
            "Enter the month: 2\n",
            "35 is not a valid day of any month\n"
          ]
        }
      ],
      "source": [
        "def distance_calc(d, m):\n",
        "    if d.isdigit():\n",
        "        d = int(d)\n",
        "    if m.isdigit():\n",
        "        m = int(m)\n",
        "\n",
        "    if 0 < d < 10:          # kept month range out of it to raise unbound local error here\n",
        "        dis = 5 + (d*2)/m\n",
        "    elif 32 > d >= 10:\n",
        "        dis = 3 + (d/m)\n",
        "\n",
        "    if m > 12:              # to raise zero division error\n",
        "        dis = dis/0\n",
        "\n",
        "    return dis\n",
        "\n",
        "try:\n",
        "    day = input(\"Enter the day: \")\n",
        "    month = input(\"Enter the month: \")\n",
        "    distance = distance_calc(day, month)\n",
        "    print(distance, \"kilometres\")\n",
        "except ZeroDivisionError:\n",
        "    print(month, \"is not a valid month\")\n",
        "except UnboundLocalError:\n",
        "    print(day, \"is not a valid day of any month\")\n",
        "except TypeError:\n",
        "    print(\"Please do not enter any string as input\")"
      ]
    },
    {
      "cell_type": "markdown",
      "metadata": {
        "id": "UrxbFOWk5ASO"
      },
      "source": [
        "## Optional Tasks (12-15)"
      ]
    },
    {
      "cell_type": "markdown",
      "metadata": {
        "id": "uIYrt-t8ETUQ"
      },
      "source": [
        "\n",
        "### Task 12\n",
        "Suppose you made a game and you stored information about the game play in a file.\\\n",
        "You stored Name, Score, Lives Used and Characters Killed of each players.\n",
        "\n",
        "**Existing file:**\\\n",
        "Mary,2000,5,25\\\n",
        "John,123455,12,50\\\n",
        "Peter,1500,5,10\\\n",
        "Harry,10000,10,30\\\n",
        "John,122,5,2\\\n",
        "Mary,5,1,1\\\n",
        "Peter,2,1,1\\\n",
        "John,123,5,10\\\n",
        "John,5,6,7\n",
        "\n",
        "**Now you have to make a new file where you have to store the following information:**\\\n",
        "1.In the first line you have to show the name and score of the player who scored the highest score.\n",
        "\n",
        "2.In the second line you have to store the name and lives used of players who used the least lives.\n",
        "\n",
        "3.In the third line you have to show the name and number of games played of the player who played the most games.\n",
        "\n",
        "**Output:**\\\n",
        "Name:John, Score:123455\\\n",
        "Name:Mary, Lives used:1\\\n",
        "Name:John, Games Played:4\n",
        "\n",
        "=========================================================\n",
        "\n",
        "**Hint(1):**\\\n",
        "Use dictionary where necessary.\\\n",
        "You are allowed to use max() min(), list.index(value) and str.split(separator) function.\n",
        "\n",
        "**Hint(2):**\\\n",
        "You need to use split function to get the data. The split function takes the separator as an argument.\n",
        "\n",
        "*Structure:*\n",
        "str.split(separator)\n",
        "\n",
        "*Example:*\n",
        "line = \"John,5,6,7\"\\\n",
        "line.split(',')\n",
        "\n",
        "**Hint(3):**\\\n",
        "You can use both write() and writelines() for writing the answers\n",
        "\n"
      ]
    },
    {
      "cell_type": "code",
      "execution_count": 17,
      "metadata": {
        "id": "0eB5wE1p-869"
      },
      "outputs": [
        {
          "name": "stdout",
          "output_type": "stream",
          "text": [
            "Name: John, Score: 123455\n",
            "Name: Mary, Lives used: 1\n",
            "Name: John, Games Played: 4\n"
          ]
        }
      ],
      "source": [
        "# directory for my PC: C:\\\\Users\\\\XXXXX\\\\Desktop\\\\Assignment8\n",
        "\n",
        "def list_sorter(li):\n",
        "    n = len(li)\n",
        "    for i in range(n):\n",
        "        mxidx = i\n",
        "        for j in range(i + 1, n):\n",
        "            if li[mxidx][1] > li[j][1]:\n",
        "                mxidx = j\n",
        "            li[mxidx][1], li[j][1] = li[j][1], li[mxidx][1]\n",
        "            li[mxidx][0], li[j][0] = li[j][0], li[mxidx][0]\n",
        "    return li\n",
        "\n",
        "f1 = open(\"T12_F1.txt\", \"r\")\n",
        "\n",
        "li = f1.readlines()\n",
        "n_li = []\n",
        "\n",
        "for i in range(len(li)):\n",
        "    tmp = []\n",
        "    tmp = li[i].split(\",\")\n",
        "    n_li.append(tmp)\n",
        "for i in range(len(n_li)):\n",
        "    for j in range(len(n_li[i])):\n",
        "        n_li[i][j] = n_li[i][j].strip()\n",
        "        if n_li[i][j].isdigit():\n",
        "            n_li[i][j] = int(n_li[i][j])\n",
        "\n",
        "name, score, lives, ch_killed = [], [], [], []\n",
        "for i in range(len(n_li)):\n",
        "    name.append(n_li[i][0])\n",
        "    score.append(n_li[i][1])\n",
        "    lives.append(n_li[i][2])\n",
        "    ch_killed.append(n_li[i][3])\n",
        "\n",
        "li_s, li_l, li_ch, li_gp = [], [], [], []\n",
        "for i in range(len(name)):\n",
        "    tmp_s = [name[i], score[i]]\n",
        "    li_s.append(tmp_s)\n",
        "    li_s = list_sorter(li_s)\n",
        "\n",
        "    tmp_l = [name[i], lives[i]]\n",
        "    li_l.append(tmp_l)\n",
        "    li_l = list_sorter(li_l)\n",
        "\n",
        "    tmp_ch = [name[i], ch_killed[i]]\n",
        "    li_ch.append(tmp_ch)\n",
        "    li_ch = list_sorter(li_ch)\n",
        "\n",
        "games_played, non_dup = [], []\n",
        "for i in range(len(name)):\n",
        "    if name[i] not in non_dup:\n",
        "        non_dup.append(name[i])\n",
        "for i in range(len(non_dup)):\n",
        "    tmp_gp = 0\n",
        "    for j in range(len(name)):\n",
        "        if non_dup[i] == name[j]:\n",
        "            tmp_gp += 1\n",
        "        x = tmp_gp\n",
        "    games_played.append(x)\n",
        "\n",
        "for i in range(len(non_dup)):\n",
        "    tmp_g = [non_dup[i], games_played[i]]\n",
        "    li_gp.append(tmp_g)\n",
        "    li_gp = list_sorter(li_gp)\n",
        "\n",
        "f2 = open(\"T12_F2.txt\", \"w\")\n",
        "\n",
        "f2.write(\"Name: \"+li_s[0][0]+\", Score: \"+str(li_s[0][1])+\"\\n\")\n",
        "f2.write(\"Name: \"+li_l[-1][0]+\", Lives used: \"+str(li_l[-1][-1])+\"\\n\")\n",
        "f2.write(\"Name: \"+li_gp[0][0]+\", Games Played: \"+str(li_gp[0][1])+\"\\n\")\n",
        "\n",
        "print(\"Name: \"+li_s[0][0]+\", Score: \"+str(li_s[0][1]))\n",
        "print(\"Name: \"+li_l[-1][0]+\", Lives used: \"+str(li_l[-1][-1]))\n",
        "print(\"Name: \"+li_gp[0][0]+\", Games Played: \"+str(li_gp[0][1]))"
      ]
    },
    {
      "cell_type": "markdown",
      "metadata": {
        "id": "SjU5ufx8Snv3"
      },
      "source": [
        "### Task 13\n",
        "Read a **file** from the user which contains the  name and salary of employees. Convert that to a dictionary where the key is the name of each employee and value is the salary of that employee. Then find the total cost for the company that it needs to pay through employees’ salary. Print the dictionary and sum if no exception occurs.\n",
        "\n",
        "Exception to handle:\n",
        "* check whether file is actually there or not.\n",
        "* check whether the salary in each line is a number or not.\n",
        "* raise error if there are extra numbers or names\n",
        "\n",
        "=============================\n",
        "\n",
        "**Example 1:** \\\n",
        "**Input:**\\\n",
        "Saadat 100\\\n",
        "Farzad 200\\\n",
        "Atef 300\\\n",
        "**Output:**\\\n",
        "dict={Saadat : 100, Farzad : 200, Atef : 300}\\\n",
        "Sum = 600\n",
        "\n",
        "=================\n",
        "\n",
        "**Example 2:** \\\n",
        "**Input:**\\\n",
        "Saadat 100\\\n",
        "Farzad 200\\\n",
        "Atef 300\\\n",
        "John\\\n",
        "**Output:**\\\n",
        "Extra Statement\n",
        "\n",
        "**Example 3:** \\\n",
        "**Input:**\\\n",
        "Saadat 100\\\n",
        "Farzad 200\\\n",
        "Atef john\\\n",
        "**Output:**\\\n",
        "Salary cannot be string\n"
      ]
    },
    {
      "cell_type": "code",
      "execution_count": null,
      "metadata": {
        "id": "SUxJ1iCXUAPg"
      },
      "outputs": [],
      "source": []
    },
    {
      "cell_type": "markdown",
      "metadata": {
        "id": "2Xzq6xJNWvbf"
      },
      "source": [
        "### Task 14\n",
        "Write a python program to make a calculator. The user must input a string consisting of a number, operator and another number separated by white spaces.\n",
        "* If the user’s input does not contain 3 elements, raise an **exception error** stating \"Input does not contain 3 elements/Wrong operator\".\n",
        "* If the user inputs any other values except numbers in first and third position of the input, raise **value error** exception stating \"Input does not contain numbers.\" \n",
        "* If the user does not input \"+\" or \"-\" or \"/\" or \"*\" or \"%\" in second position of the input, again raise an **exception error** stating \"Input does not contain 3 elements/Wrong operator\".\n",
        "\n",
        "* In case of division, also handle **divide by zero exception**.\n",
        "\n",
        "\n",
        "If all the inputs are correct, calculate the result and print the value.\n",
        "\n",
        "\n",
        "=============================\n",
        "\n",
        "\n",
        "**Example 1:** \\\n",
        "**Input:**\\\n",
        "1 + 1 + 1\\\n",
        "**Output:**\\\n",
        "Input does not contain 3 elements/Wrong operator\n",
        "\n",
        "=================\n",
        "\n",
        "**Example 2:** \\\n",
        "**Input:**\\\n",
        "A * B\\\n",
        "**Output:**\\\n",
        "Input does not contain numbers.\n",
        "\n",
        "=================\n",
        "\n",
        "**Example 3:** \\\n",
        "**Input:**\\\n",
        "1 $ 3\\\n",
        "**Output:**\\\n",
        "Input does not contain 3 elements/Wrong operator\n",
        "\n",
        "=================\n",
        "\n",
        "**Example 4:** \\\n",
        "**Input:**\\\n",
        "1 + 1\\\n",
        "**Output:**\\\n",
        "The answer is : 2\n"
      ]
    },
    {
      "cell_type": "code",
      "execution_count": null,
      "metadata": {
        "id": "vX2d7DiVXbhc"
      },
      "outputs": [],
      "source": []
    },
    {
      "cell_type": "markdown",
      "metadata": {
        "id": "RdshPzpJRcsD"
      },
      "source": [
        "### Task 15\n",
        "Write a python function that will remove a given character from a sentence based on the starting and ending index of the sentence. In the place of the removed characters, add the count of the number of characters removed so far. For this program, you need to take 4 user inputs.\n",
        "* Sentence\n",
        "* Character to be removed\n",
        "* Starting index (inclusive)\n",
        "* Ending index (inclusive)\n",
        "\n",
        "Few exceptions to catch: \n",
        "* Name Error if a variable is not found. Print ‘Name Error: Variable not defined’\n",
        "* Value Error if the starting index and ending index is not an integer. Print ‘Value Error: Wrong input, please enter an integer value.’\n",
        "* Type Error when adding count in the new sentence. Print ‘Type Error: Cannot add integer value with string.’\n",
        "* Index Error if the starting and ending index is out of range. Print ‘Index Error: Index is outside the range of sentence length.’\n",
        "* For other exceptions, catch Exception. Print ‘Some other error occurred.’\n",
        "\n",
        "If no exception occurred, print the new string using else block. At the end using finally, print ‘The program execution is complete’.\n",
        "\n",
        "=============================\n",
        "\n",
        "**Example 1:** \\\n",
        "**Input:**\\\n",
        "'my python programming book'\\\n",
        "'m'\\\n",
        "2\\\n",
        "20\\\n",
        "**Output:**\\\n",
        "my python progra12ing book\\\n",
        "The program execution is complete\n",
        "\n",
        "=================\n",
        "\n",
        "**Example 2:** \\\n",
        "**Input:**\\\n",
        "'my python programming book'\\\n",
        "'m'\\\n",
        "2.5\\\n",
        "20\\\n",
        "**Output:**\\\n",
        "Value Error: Wrong input, please enter an integer value.\\\n",
        "The program execution is complete\n",
        "\n",
        "=================\n",
        "\n",
        "**Example 3:** \\\n",
        "**Input:**\\\n",
        "'my python programming book'\\\n",
        "'m'\\\n",
        "2\\\n",
        "100\\\n",
        "**Output:**\\\n",
        "Index Error: Index is outside the range of sentence length.\\\n",
        "The program execution is complete\n",
        "\n",
        "=================\n",
        "\n",
        "**Hint(1):**\\\n",
        "For ensuring starting index and ending index value to be integer use the builtin function isinstance(value, data_type)\n"
      ]
    },
    {
      "cell_type": "code",
      "execution_count": null,
      "metadata": {
        "id": "bcU6dV5BSl7d"
      },
      "outputs": [],
      "source": []
    }
  ],
  "metadata": {
    "colab": {
      "collapsed_sections": [],
      "name": "21301455_Md_Monowarul_Islam_08_CSE110Assignment8.ipynb",
      "provenance": []
    },
    "kernelspec": {
      "display_name": "Python 3",
      "name": "python3"
    },
    "language_info": {
      "codemirror_mode": {
        "name": "ipython",
        "version": 3
      },
      "file_extension": ".py",
      "mimetype": "text/x-python",
      "name": "python",
      "nbconvert_exporter": "python",
      "pygments_lexer": "ipython3",
      "version": "3.9.9"
    }
  },
  "nbformat": 4,
  "nbformat_minor": 0
}
